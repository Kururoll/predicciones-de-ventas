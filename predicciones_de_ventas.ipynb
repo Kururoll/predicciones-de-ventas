{
  "nbformat": 4,
  "nbformat_minor": 0,
  "metadata": {
    "colab": {
      "provenance": [],
      "authorship_tag": "ABX9TyOLgDcRQ8xhHc5GdXAA/b0a",
      "include_colab_link": true
    },
    "kernelspec": {
      "name": "python3",
      "display_name": "Python 3"
    },
    "language_info": {
      "name": "python"
    }
  },
  "cells": [
    {
      "cell_type": "markdown",
      "metadata": {
        "id": "view-in-github",
        "colab_type": "text"
      },
      "source": [
        "<a href=\"https://colab.research.google.com/github/Kururoll/predicciones-de-ventas/blob/main/predicciones_de_ventas.ipynb\" target=\"_parent\"><img src=\"https://colab.research.google.com/assets/colab-badge.svg\" alt=\"Open In Colab\"/></a>"
      ]
    },
    {
      "cell_type": "code",
      "execution_count": 26,
      "metadata": {
        "colab": {
          "base_uri": "https://localhost:8080/"
        },
        "id": "CQG_vRdlRUZ6",
        "outputId": "c222334f-0793-45ab-c4bd-b2e7e80c14fb"
      },
      "outputs": [
        {
          "output_type": "stream",
          "name": "stdout",
          "text": [
            "<class 'pandas.core.frame.DataFrame'>\n",
            "RangeIndex: 8523 entries, 0 to 8522\n",
            "Data columns (total 12 columns):\n",
            " #   Column                     Non-Null Count  Dtype  \n",
            "---  ------                     --------------  -----  \n",
            " 0   Item_Identifier            8523 non-null   object \n",
            " 1   Item_Weight                7060 non-null   float64\n",
            " 2   Item_Fat_Content           8523 non-null   object \n",
            " 3   Item_Visibility            8523 non-null   float64\n",
            " 4   Item_Type                  8523 non-null   object \n",
            " 5   Item_MRP                   8523 non-null   float64\n",
            " 6   Outlet_Identifier          8523 non-null   object \n",
            " 7   Outlet_Establishment_Year  8523 non-null   int64  \n",
            " 8   Outlet_Size                6113 non-null   object \n",
            " 9   Outlet_Location_Type       8523 non-null   object \n",
            " 10  Outlet_Type                8523 non-null   object \n",
            " 11  Item_Outlet_Sales          8523 non-null   float64\n",
            "dtypes: float64(4), int64(1), object(7)\n",
            "memory usage: 799.2+ KB\n"
          ]
        }
      ],
      "source": [
        "import matplotlib.pyplot as plt\n",
        "import pandas as pd\n",
        "import seaborn as sns\n",
        "filename = \"/content/sales_predictions_2023.csv\"\n",
        "df = pd.read_csv(filename)\n",
        "df.info()"
      ]
    },
    {
      "cell_type": "markdown",
      "source": [
        "##Pregunta 1\n",
        "8523 filas y 12 columnas"
      ],
      "metadata": {
        "id": "zEttrTh0Cvp5"
      }
    },
    {
      "cell_type": "markdown",
      "source": [
        "##Pregunta 2\n",
        "Son Objetos, Flotantes y un Entero"
      ],
      "metadata": {
        "id": "qBn7MeXBC0tj"
      }
    },
    {
      "cell_type": "code",
      "source": [
        "df.info()"
      ],
      "metadata": {
        "colab": {
          "base_uri": "https://localhost:8080/"
        },
        "id": "Lc8XTHj5C7KD",
        "outputId": "ae0bf832-4dbb-46d8-eda4-262fc1181535"
      },
      "execution_count": 8,
      "outputs": [
        {
          "output_type": "stream",
          "name": "stdout",
          "text": [
            "<class 'pandas.core.frame.DataFrame'>\n",
            "RangeIndex: 8523 entries, 0 to 8522\n",
            "Data columns (total 12 columns):\n",
            " #   Column                     Non-Null Count  Dtype  \n",
            "---  ------                     --------------  -----  \n",
            " 0   Item_Identifier            8523 non-null   object \n",
            " 1   Item_Weight                7060 non-null   float64\n",
            " 2   Item_Fat_Content           8523 non-null   object \n",
            " 3   Item_Visibility            8523 non-null   float64\n",
            " 4   Item_Type                  8523 non-null   object \n",
            " 5   Item_MRP                   8523 non-null   float64\n",
            " 6   Outlet_Identifier          8523 non-null   object \n",
            " 7   Outlet_Establishment_Year  8523 non-null   int64  \n",
            " 8   Outlet_Size                6113 non-null   object \n",
            " 9   Outlet_Location_Type       8523 non-null   object \n",
            " 10  Outlet_Type                8523 non-null   object \n",
            " 11  Item_Outlet_Sales          8523 non-null   float64\n",
            "dtypes: float64(4), int64(1), object(7)\n",
            "memory usage: 799.2+ KB\n"
          ]
        }
      ]
    },
    {
      "cell_type": "markdown",
      "source": [
        "##Pregunta 3\n",
        "al parecer, no habrian duplicados"
      ],
      "metadata": {
        "id": "sUlNUOoYDMiJ"
      }
    },
    {
      "cell_type": "code",
      "source": [
        "df = df.drop_duplicates()\n",
        "df.info()"
      ],
      "metadata": {
        "colab": {
          "base_uri": "https://localhost:8080/"
        },
        "id": "rqa1AAqIDOjm",
        "outputId": "832e4421-09a0-4eb8-a080-69f16ac0883c"
      },
      "execution_count": 9,
      "outputs": [
        {
          "output_type": "stream",
          "name": "stdout",
          "text": [
            "<class 'pandas.core.frame.DataFrame'>\n",
            "RangeIndex: 8523 entries, 0 to 8522\n",
            "Data columns (total 12 columns):\n",
            " #   Column                     Non-Null Count  Dtype  \n",
            "---  ------                     --------------  -----  \n",
            " 0   Item_Identifier            8523 non-null   object \n",
            " 1   Item_Weight                7060 non-null   float64\n",
            " 2   Item_Fat_Content           8523 non-null   object \n",
            " 3   Item_Visibility            8523 non-null   float64\n",
            " 4   Item_Type                  8523 non-null   object \n",
            " 5   Item_MRP                   8523 non-null   float64\n",
            " 6   Outlet_Identifier          8523 non-null   object \n",
            " 7   Outlet_Establishment_Year  8523 non-null   int64  \n",
            " 8   Outlet_Size                6113 non-null   object \n",
            " 9   Outlet_Location_Type       8523 non-null   object \n",
            " 10  Outlet_Type                8523 non-null   object \n",
            " 11  Item_Outlet_Sales          8523 non-null   float64\n",
            "dtypes: float64(4), int64(1), object(7)\n",
            "memory usage: 799.2+ KB\n"
          ]
        }
      ]
    },
    {
      "cell_type": "markdown",
      "source": [
        "##Pregunta 4\n",
        "Faltan 1463 datos en la columna Item_Weight y 2410 datos en la columna Outlet_Size"
      ],
      "metadata": {
        "id": "3spr5n_aDsiX"
      }
    },
    {
      "cell_type": "code",
      "source": [
        "df.isna().sum()"
      ],
      "metadata": {
        "colab": {
          "base_uri": "https://localhost:8080/"
        },
        "id": "S9_qZ7z0Dwo-",
        "outputId": "8537dae4-ef86-4897-d091-bebeb5e861a1"
      },
      "execution_count": 10,
      "outputs": [
        {
          "output_type": "execute_result",
          "data": {
            "text/plain": [
              "Item_Identifier                 0\n",
              "Item_Weight                  1463\n",
              "Item_Fat_Content                0\n",
              "Item_Visibility                 0\n",
              "Item_Type                       0\n",
              "Item_MRP                        0\n",
              "Outlet_Identifier               0\n",
              "Outlet_Establishment_Year       0\n",
              "Outlet_Size                  2410\n",
              "Outlet_Location_Type            0\n",
              "Outlet_Type                     0\n",
              "Item_Outlet_Sales               0\n",
              "dtype: int64"
            ]
          },
          "metadata": {},
          "execution_count": 10
        }
      ]
    },
    {
      "cell_type": "markdown",
      "source": [
        "#Pregunta 5\n",
        "Para el caso de Item_Weight, calcule un promedio por codigo identificador (que deberia ser unico para cada producto) y luego rellene los valores vacios con el promedio por identificador, lo que restas son 4 registros con NaN, por lo que elimine esos 4 registros.\n",
        "\n",
        "Para el caso del Outlet_Size\n",
        "realizo un groupby de Outlet_Type con Outlet_Size para ver el cruce de informacion. Luego, sumo los valores NA por Outlet_Type cruzaod con Outlet_Size para comparar con el groupby realizado anteriormente, con esto me percato de que toda Grocery Store es Outlet_Size Small, por lo que procedo a rellenar los nulos entre ambos cruces (Grocery Store = Small) Luego de realizar varios cruces mas por las columnas de Outlet, me di cuenta que los datos faltantes pertenecen a Tier 2 de Outlet_Location_Type, por lo que rellene los valores con \"Small\" ya que es el valor que mas se repite en Tier 2 con valores."
      ],
      "metadata": {
        "id": "SuQI0DoIECru"
      }
    },
    {
      "cell_type": "code",
      "source": [
        "#Primero Item_Weight.\n",
        "\n",
        "promedio = df.groupby('Item_Identifier')['Item_Weight'].transform('mean')\n",
        "df['Item_Weight'].fillna(promedio, inplace=True)\n",
        "\n",
        "#con esto, ya quedan solo 4 datos sin dato en Item_Weight, y dado que es una muestra muy chica, los borro\n",
        "df.dropna(subset=['Item_Weight'], inplace=True)\n",
        "\n",
        "df[\"Outlet_Identifier\"].value_counts()\n",
        "\n",
        "df.groupby('Outlet_Identifier')['Outlet_Size'].value_counts()\n",
        "\n",
        "df.loc[(df[\"Outlet_Size\"].isnull()) & (df[\"Outlet_Type\"] == \"Grocery Store\"), \"Outlet_Size\"] = \"Small\"\n",
        "\n",
        "df.loc[(df[\"Outlet_Size\"].isnull()) & (df[\"Outlet_Location_Type\"] == \"Tier 2\"), \"Outlet_Size\"] = \"Small\"\n",
        "\n",
        "df.groupby([\"Outlet_Location_Type\"] )[\"Outlet_Size\"].apply(lambda x: x.isnull().sum())\n",
        "df.info()"
      ],
      "metadata": {
        "colab": {
          "base_uri": "https://localhost:8080/"
        },
        "id": "jHWt9iqiEMQa",
        "outputId": "eb952e37-d6eb-4150-cd51-61a332e32d5b"
      },
      "execution_count": 11,
      "outputs": [
        {
          "output_type": "stream",
          "name": "stdout",
          "text": [
            "<class 'pandas.core.frame.DataFrame'>\n",
            "Index: 8519 entries, 0 to 8522\n",
            "Data columns (total 12 columns):\n",
            " #   Column                     Non-Null Count  Dtype  \n",
            "---  ------                     --------------  -----  \n",
            " 0   Item_Identifier            8519 non-null   object \n",
            " 1   Item_Weight                8519 non-null   float64\n",
            " 2   Item_Fat_Content           8519 non-null   object \n",
            " 3   Item_Visibility            8519 non-null   float64\n",
            " 4   Item_Type                  8519 non-null   object \n",
            " 5   Item_MRP                   8519 non-null   float64\n",
            " 6   Outlet_Identifier          8519 non-null   object \n",
            " 7   Outlet_Establishment_Year  8519 non-null   int64  \n",
            " 8   Outlet_Size                8519 non-null   object \n",
            " 9   Outlet_Location_Type       8519 non-null   object \n",
            " 10  Outlet_Type                8519 non-null   object \n",
            " 11  Item_Outlet_Sales          8519 non-null   float64\n",
            "dtypes: float64(4), int64(1), object(7)\n",
            "memory usage: 865.2+ KB\n"
          ]
        }
      ]
    },
    {
      "cell_type": "code",
      "source": [
        "df.groupby([\"Outlet_Location_Type\"])['Outlet_Size'].value_counts()"
      ],
      "metadata": {
        "id": "o1YmvgLcjvpQ",
        "colab": {
          "base_uri": "https://localhost:8080/"
        },
        "outputId": "d1c07f9f-7ede-4fe3-fda6-a2f4d8a040cd"
      },
      "execution_count": 12,
      "outputs": [
        {
          "output_type": "execute_result",
          "data": {
            "text/plain": [
              "Outlet_Location_Type  Outlet_Size\n",
              "Tier 1                Small          1457\n",
              "                      Medium          930\n",
              "Tier 2                Small          2785\n",
              "Tier 3                Medium         1860\n",
              "                      High            932\n",
              "                      Small           555\n",
              "Name: count, dtype: int64"
            ]
          },
          "metadata": {},
          "execution_count": 12
        }
      ]
    },
    {
      "cell_type": "markdown",
      "source": [
        "##Pregunta 6"
      ],
      "metadata": {
        "id": "Z01DE_YlZt92"
      }
    },
    {
      "cell_type": "code",
      "source": [
        "df.isna().sum()"
      ],
      "metadata": {
        "id": "GhwE6w6WZvb2",
        "colab": {
          "base_uri": "https://localhost:8080/"
        },
        "outputId": "11a4dc10-7144-497d-b7f5-87bff1744977"
      },
      "execution_count": 13,
      "outputs": [
        {
          "output_type": "execute_result",
          "data": {
            "text/plain": [
              "Item_Identifier              0\n",
              "Item_Weight                  0\n",
              "Item_Fat_Content             0\n",
              "Item_Visibility              0\n",
              "Item_Type                    0\n",
              "Item_MRP                     0\n",
              "Outlet_Identifier            0\n",
              "Outlet_Establishment_Year    0\n",
              "Outlet_Size                  0\n",
              "Outlet_Location_Type         0\n",
              "Outlet_Type                  0\n",
              "Item_Outlet_Sales            0\n",
              "dtype: int64"
            ]
          },
          "metadata": {},
          "execution_count": 13
        }
      ]
    },
    {
      "cell_type": "markdown",
      "source": [
        "##Pregunta 7\n"
      ],
      "metadata": {
        "id": "ObvuLrENZ3g6"
      }
    },
    {
      "cell_type": "code",
      "source": [
        "df[\"Item_Fat_Content\"].value_counts() #contiene errores Tiene low fat, LF y reg malos, deberian ser Low Fat o Regular\n",
        "#df[\"Item_Type\"].value_counts()\n",
        "#df[\"Item_MRP\"].value_counts()\n",
        "#df[\"Outlet_Establishment_Year\"].value_counts()\n",
        "#df[\"Outlet_Size\"].value_counts()\n",
        "#df[\"Outlet_Location_Type\"].value_counts()\n",
        "#df[\"Outlet_Type\"].value_counts()\n",
        "#df[\"Item_Outlet_Sales\"].value_counts()\n",
        "#Procedo a corregir valores en Item_Fat_Content que es lo unico extraño que encontre\n",
        "df.loc[df[\"Item_Fat_Content\"] == \"low fat\", \"Item_Fat_Content\"] = \"Low Fat\"\n",
        "df.loc[df[\"Item_Fat_Content\"] == \"reg\", \"Item_Fat_Content\"] = \"Regular\"\n",
        "df.loc[df[\"Item_Fat_Content\"] == \"LF\", \"Item_Fat_Content\"] = \"Low Fat\"\n",
        "df[\"Item_Fat_Content\"].value_counts()\n",
        "df.info()"
      ],
      "metadata": {
        "id": "HyJEYc0_rvlx",
        "colab": {
          "base_uri": "https://localhost:8080/"
        },
        "outputId": "dcbfd72c-bc5f-4fb9-f924-a985e0eafaa8"
      },
      "execution_count": 14,
      "outputs": [
        {
          "output_type": "stream",
          "name": "stdout",
          "text": [
            "<class 'pandas.core.frame.DataFrame'>\n",
            "Index: 8519 entries, 0 to 8522\n",
            "Data columns (total 12 columns):\n",
            " #   Column                     Non-Null Count  Dtype  \n",
            "---  ------                     --------------  -----  \n",
            " 0   Item_Identifier            8519 non-null   object \n",
            " 1   Item_Weight                8519 non-null   float64\n",
            " 2   Item_Fat_Content           8519 non-null   object \n",
            " 3   Item_Visibility            8519 non-null   float64\n",
            " 4   Item_Type                  8519 non-null   object \n",
            " 5   Item_MRP                   8519 non-null   float64\n",
            " 6   Outlet_Identifier          8519 non-null   object \n",
            " 7   Outlet_Establishment_Year  8519 non-null   int64  \n",
            " 8   Outlet_Size                8519 non-null   object \n",
            " 9   Outlet_Location_Type       8519 non-null   object \n",
            " 10  Outlet_Type                8519 non-null   object \n",
            " 11  Item_Outlet_Sales          8519 non-null   float64\n",
            "dtypes: float64(4), int64(1), object(7)\n",
            "memory usage: 865.2+ KB\n"
          ]
        }
      ]
    },
    {
      "cell_type": "markdown",
      "source": [
        "##Pregunta 8"
      ],
      "metadata": {
        "id": "lbQT3oFmZ5DK"
      }
    },
    {
      "cell_type": "code",
      "source": [
        "df.describe()"
      ],
      "metadata": {
        "id": "vhWt4Nt6Z6Ve",
        "colab": {
          "base_uri": "https://localhost:8080/",
          "height": 300
        },
        "outputId": "a1c3d32a-88b3-4d8e-837e-3a112e196187"
      },
      "execution_count": 15,
      "outputs": [
        {
          "output_type": "execute_result",
          "data": {
            "text/plain": [
              "       Item_Weight  Item_Visibility     Item_MRP  Outlet_Establishment_Year  \\\n",
              "count  8519.000000      8519.000000  8519.000000                8519.000000   \n",
              "mean     12.875420         0.066112   141.010019                1997.837892   \n",
              "std       4.646098         0.051586    62.283594                   8.369105   \n",
              "min       4.555000         0.000000    31.290000                1985.000000   \n",
              "25%       8.785000         0.026983    93.844900                1987.000000   \n",
              "50%      12.650000         0.053925   143.047000                1999.000000   \n",
              "75%      16.850000         0.094558   185.676600                2004.000000   \n",
              "max      21.350000         0.328391   266.888400                2009.000000   \n",
              "\n",
              "       Item_Outlet_Sales  \n",
              "count        8519.000000  \n",
              "mean         2181.188779  \n",
              "std          1706.511093  \n",
              "min            33.290000  \n",
              "25%           834.247400  \n",
              "50%          1794.331000  \n",
              "75%          3100.630600  \n",
              "max         13086.964800  "
            ],
            "text/html": [
              "\n",
              "  <div id=\"df-82d7c873-cc4b-454c-b7b5-1d2d3044c873\" class=\"colab-df-container\">\n",
              "    <div>\n",
              "<style scoped>\n",
              "    .dataframe tbody tr th:only-of-type {\n",
              "        vertical-align: middle;\n",
              "    }\n",
              "\n",
              "    .dataframe tbody tr th {\n",
              "        vertical-align: top;\n",
              "    }\n",
              "\n",
              "    .dataframe thead th {\n",
              "        text-align: right;\n",
              "    }\n",
              "</style>\n",
              "<table border=\"1\" class=\"dataframe\">\n",
              "  <thead>\n",
              "    <tr style=\"text-align: right;\">\n",
              "      <th></th>\n",
              "      <th>Item_Weight</th>\n",
              "      <th>Item_Visibility</th>\n",
              "      <th>Item_MRP</th>\n",
              "      <th>Outlet_Establishment_Year</th>\n",
              "      <th>Item_Outlet_Sales</th>\n",
              "    </tr>\n",
              "  </thead>\n",
              "  <tbody>\n",
              "    <tr>\n",
              "      <th>count</th>\n",
              "      <td>8519.000000</td>\n",
              "      <td>8519.000000</td>\n",
              "      <td>8519.000000</td>\n",
              "      <td>8519.000000</td>\n",
              "      <td>8519.000000</td>\n",
              "    </tr>\n",
              "    <tr>\n",
              "      <th>mean</th>\n",
              "      <td>12.875420</td>\n",
              "      <td>0.066112</td>\n",
              "      <td>141.010019</td>\n",
              "      <td>1997.837892</td>\n",
              "      <td>2181.188779</td>\n",
              "    </tr>\n",
              "    <tr>\n",
              "      <th>std</th>\n",
              "      <td>4.646098</td>\n",
              "      <td>0.051586</td>\n",
              "      <td>62.283594</td>\n",
              "      <td>8.369105</td>\n",
              "      <td>1706.511093</td>\n",
              "    </tr>\n",
              "    <tr>\n",
              "      <th>min</th>\n",
              "      <td>4.555000</td>\n",
              "      <td>0.000000</td>\n",
              "      <td>31.290000</td>\n",
              "      <td>1985.000000</td>\n",
              "      <td>33.290000</td>\n",
              "    </tr>\n",
              "    <tr>\n",
              "      <th>25%</th>\n",
              "      <td>8.785000</td>\n",
              "      <td>0.026983</td>\n",
              "      <td>93.844900</td>\n",
              "      <td>1987.000000</td>\n",
              "      <td>834.247400</td>\n",
              "    </tr>\n",
              "    <tr>\n",
              "      <th>50%</th>\n",
              "      <td>12.650000</td>\n",
              "      <td>0.053925</td>\n",
              "      <td>143.047000</td>\n",
              "      <td>1999.000000</td>\n",
              "      <td>1794.331000</td>\n",
              "    </tr>\n",
              "    <tr>\n",
              "      <th>75%</th>\n",
              "      <td>16.850000</td>\n",
              "      <td>0.094558</td>\n",
              "      <td>185.676600</td>\n",
              "      <td>2004.000000</td>\n",
              "      <td>3100.630600</td>\n",
              "    </tr>\n",
              "    <tr>\n",
              "      <th>max</th>\n",
              "      <td>21.350000</td>\n",
              "      <td>0.328391</td>\n",
              "      <td>266.888400</td>\n",
              "      <td>2009.000000</td>\n",
              "      <td>13086.964800</td>\n",
              "    </tr>\n",
              "  </tbody>\n",
              "</table>\n",
              "</div>\n",
              "    <div class=\"colab-df-buttons\">\n",
              "\n",
              "  <div class=\"colab-df-container\">\n",
              "    <button class=\"colab-df-convert\" onclick=\"convertToInteractive('df-82d7c873-cc4b-454c-b7b5-1d2d3044c873')\"\n",
              "            title=\"Convert this dataframe to an interactive table.\"\n",
              "            style=\"display:none;\">\n",
              "\n",
              "  <svg xmlns=\"http://www.w3.org/2000/svg\" height=\"24px\" viewBox=\"0 -960 960 960\">\n",
              "    <path d=\"M120-120v-720h720v720H120Zm60-500h600v-160H180v160Zm220 220h160v-160H400v160Zm0 220h160v-160H400v160ZM180-400h160v-160H180v160Zm440 0h160v-160H620v160ZM180-180h160v-160H180v160Zm440 0h160v-160H620v160Z\"/>\n",
              "  </svg>\n",
              "    </button>\n",
              "\n",
              "  <style>\n",
              "    .colab-df-container {\n",
              "      display:flex;\n",
              "      gap: 12px;\n",
              "    }\n",
              "\n",
              "    .colab-df-convert {\n",
              "      background-color: #E8F0FE;\n",
              "      border: none;\n",
              "      border-radius: 50%;\n",
              "      cursor: pointer;\n",
              "      display: none;\n",
              "      fill: #1967D2;\n",
              "      height: 32px;\n",
              "      padding: 0 0 0 0;\n",
              "      width: 32px;\n",
              "    }\n",
              "\n",
              "    .colab-df-convert:hover {\n",
              "      background-color: #E2EBFA;\n",
              "      box-shadow: 0px 1px 2px rgba(60, 64, 67, 0.3), 0px 1px 3px 1px rgba(60, 64, 67, 0.15);\n",
              "      fill: #174EA6;\n",
              "    }\n",
              "\n",
              "    .colab-df-buttons div {\n",
              "      margin-bottom: 4px;\n",
              "    }\n",
              "\n",
              "    [theme=dark] .colab-df-convert {\n",
              "      background-color: #3B4455;\n",
              "      fill: #D2E3FC;\n",
              "    }\n",
              "\n",
              "    [theme=dark] .colab-df-convert:hover {\n",
              "      background-color: #434B5C;\n",
              "      box-shadow: 0px 1px 3px 1px rgba(0, 0, 0, 0.15);\n",
              "      filter: drop-shadow(0px 1px 2px rgba(0, 0, 0, 0.3));\n",
              "      fill: #FFFFFF;\n",
              "    }\n",
              "  </style>\n",
              "\n",
              "    <script>\n",
              "      const buttonEl =\n",
              "        document.querySelector('#df-82d7c873-cc4b-454c-b7b5-1d2d3044c873 button.colab-df-convert');\n",
              "      buttonEl.style.display =\n",
              "        google.colab.kernel.accessAllowed ? 'block' : 'none';\n",
              "\n",
              "      async function convertToInteractive(key) {\n",
              "        const element = document.querySelector('#df-82d7c873-cc4b-454c-b7b5-1d2d3044c873');\n",
              "        const dataTable =\n",
              "          await google.colab.kernel.invokeFunction('convertToInteractive',\n",
              "                                                    [key], {});\n",
              "        if (!dataTable) return;\n",
              "\n",
              "        const docLinkHtml = 'Like what you see? Visit the ' +\n",
              "          '<a target=\"_blank\" href=https://colab.research.google.com/notebooks/data_table.ipynb>data table notebook</a>'\n",
              "          + ' to learn more about interactive tables.';\n",
              "        element.innerHTML = '';\n",
              "        dataTable['output_type'] = 'display_data';\n",
              "        await google.colab.output.renderOutput(dataTable, element);\n",
              "        const docLink = document.createElement('div');\n",
              "        docLink.innerHTML = docLinkHtml;\n",
              "        element.appendChild(docLink);\n",
              "      }\n",
              "    </script>\n",
              "  </div>\n",
              "\n",
              "\n",
              "<div id=\"df-1c2e9499-1449-4e3f-8376-a1eec21ecc0b\">\n",
              "  <button class=\"colab-df-quickchart\" onclick=\"quickchart('df-1c2e9499-1449-4e3f-8376-a1eec21ecc0b')\"\n",
              "            title=\"Suggest charts\"\n",
              "            style=\"display:none;\">\n",
              "\n",
              "<svg xmlns=\"http://www.w3.org/2000/svg\" height=\"24px\"viewBox=\"0 0 24 24\"\n",
              "     width=\"24px\">\n",
              "    <g>\n",
              "        <path d=\"M19 3H5c-1.1 0-2 .9-2 2v14c0 1.1.9 2 2 2h14c1.1 0 2-.9 2-2V5c0-1.1-.9-2-2-2zM9 17H7v-7h2v7zm4 0h-2V7h2v10zm4 0h-2v-4h2v4z\"/>\n",
              "    </g>\n",
              "</svg>\n",
              "  </button>\n",
              "\n",
              "<style>\n",
              "  .colab-df-quickchart {\n",
              "      --bg-color: #E8F0FE;\n",
              "      --fill-color: #1967D2;\n",
              "      --hover-bg-color: #E2EBFA;\n",
              "      --hover-fill-color: #174EA6;\n",
              "      --disabled-fill-color: #AAA;\n",
              "      --disabled-bg-color: #DDD;\n",
              "  }\n",
              "\n",
              "  [theme=dark] .colab-df-quickchart {\n",
              "      --bg-color: #3B4455;\n",
              "      --fill-color: #D2E3FC;\n",
              "      --hover-bg-color: #434B5C;\n",
              "      --hover-fill-color: #FFFFFF;\n",
              "      --disabled-bg-color: #3B4455;\n",
              "      --disabled-fill-color: #666;\n",
              "  }\n",
              "\n",
              "  .colab-df-quickchart {\n",
              "    background-color: var(--bg-color);\n",
              "    border: none;\n",
              "    border-radius: 50%;\n",
              "    cursor: pointer;\n",
              "    display: none;\n",
              "    fill: var(--fill-color);\n",
              "    height: 32px;\n",
              "    padding: 0;\n",
              "    width: 32px;\n",
              "  }\n",
              "\n",
              "  .colab-df-quickchart:hover {\n",
              "    background-color: var(--hover-bg-color);\n",
              "    box-shadow: 0 1px 2px rgba(60, 64, 67, 0.3), 0 1px 3px 1px rgba(60, 64, 67, 0.15);\n",
              "    fill: var(--button-hover-fill-color);\n",
              "  }\n",
              "\n",
              "  .colab-df-quickchart-complete:disabled,\n",
              "  .colab-df-quickchart-complete:disabled:hover {\n",
              "    background-color: var(--disabled-bg-color);\n",
              "    fill: var(--disabled-fill-color);\n",
              "    box-shadow: none;\n",
              "  }\n",
              "\n",
              "  .colab-df-spinner {\n",
              "    border: 2px solid var(--fill-color);\n",
              "    border-color: transparent;\n",
              "    border-bottom-color: var(--fill-color);\n",
              "    animation:\n",
              "      spin 1s steps(1) infinite;\n",
              "  }\n",
              "\n",
              "  @keyframes spin {\n",
              "    0% {\n",
              "      border-color: transparent;\n",
              "      border-bottom-color: var(--fill-color);\n",
              "      border-left-color: var(--fill-color);\n",
              "    }\n",
              "    20% {\n",
              "      border-color: transparent;\n",
              "      border-left-color: var(--fill-color);\n",
              "      border-top-color: var(--fill-color);\n",
              "    }\n",
              "    30% {\n",
              "      border-color: transparent;\n",
              "      border-left-color: var(--fill-color);\n",
              "      border-top-color: var(--fill-color);\n",
              "      border-right-color: var(--fill-color);\n",
              "    }\n",
              "    40% {\n",
              "      border-color: transparent;\n",
              "      border-right-color: var(--fill-color);\n",
              "      border-top-color: var(--fill-color);\n",
              "    }\n",
              "    60% {\n",
              "      border-color: transparent;\n",
              "      border-right-color: var(--fill-color);\n",
              "    }\n",
              "    80% {\n",
              "      border-color: transparent;\n",
              "      border-right-color: var(--fill-color);\n",
              "      border-bottom-color: var(--fill-color);\n",
              "    }\n",
              "    90% {\n",
              "      border-color: transparent;\n",
              "      border-bottom-color: var(--fill-color);\n",
              "    }\n",
              "  }\n",
              "</style>\n",
              "\n",
              "  <script>\n",
              "    async function quickchart(key) {\n",
              "      const quickchartButtonEl =\n",
              "        document.querySelector('#' + key + ' button');\n",
              "      quickchartButtonEl.disabled = true;  // To prevent multiple clicks.\n",
              "      quickchartButtonEl.classList.add('colab-df-spinner');\n",
              "      try {\n",
              "        const charts = await google.colab.kernel.invokeFunction(\n",
              "            'suggestCharts', [key], {});\n",
              "      } catch (error) {\n",
              "        console.error('Error during call to suggestCharts:', error);\n",
              "      }\n",
              "      quickchartButtonEl.classList.remove('colab-df-spinner');\n",
              "      quickchartButtonEl.classList.add('colab-df-quickchart-complete');\n",
              "    }\n",
              "    (() => {\n",
              "      let quickchartButtonEl =\n",
              "        document.querySelector('#df-1c2e9499-1449-4e3f-8376-a1eec21ecc0b button');\n",
              "      quickchartButtonEl.style.display =\n",
              "        google.colab.kernel.accessAllowed ? 'block' : 'none';\n",
              "    })();\n",
              "  </script>\n",
              "</div>\n",
              "\n",
              "    </div>\n",
              "  </div>\n"
            ],
            "application/vnd.google.colaboratory.intrinsic+json": {
              "type": "dataframe",
              "summary": "{\n  \"name\": \"df\",\n  \"rows\": 8,\n  \"fields\": [\n    {\n      \"column\": \"Item_Weight\",\n      \"properties\": {\n        \"dtype\": \"number\",\n        \"std\": 3007.7997707408636,\n        \"min\": 4.555,\n        \"max\": 8519.0,\n        \"num_unique_values\": 8,\n        \"samples\": [\n          12.875420237117032,\n          12.65,\n          8519.0\n        ],\n        \"semantic_type\": \"\",\n        \"description\": \"\"\n      }\n    },\n    {\n      \"column\": \"Item_Visibility\",\n      \"properties\": {\n        \"dtype\": \"number\",\n        \"std\": 3011.8899429071244,\n        \"min\": 0.0,\n        \"max\": 8519.0,\n        \"num_unique_values\": 8,\n        \"samples\": [\n          0.06611236082486209,\n          0.053924587,\n          8519.0\n        ],\n        \"semantic_type\": \"\",\n        \"description\": \"\"\n      }\n    },\n    {\n      \"column\": \"Item_MRP\",\n      \"properties\": {\n        \"dtype\": \"number\",\n        \"std\": 2966.1591541750736,\n        \"min\": 31.29,\n        \"max\": 8519.0,\n        \"num_unique_values\": 8,\n        \"samples\": [\n          141.0100194623782,\n          143.047,\n          8519.0\n        ],\n        \"semantic_type\": \"\",\n        \"description\": \"\"\n      }\n    },\n    {\n      \"column\": \"Outlet_Establishment_Year\",\n      \"properties\": {\n        \"dtype\": \"number\",\n        \"std\": 2504.9332134459232,\n        \"min\": 8.369105468132409,\n        \"max\": 8519.0,\n        \"num_unique_values\": 8,\n        \"samples\": [\n          1997.8378917713346,\n          1999.0,\n          8519.0\n        ],\n        \"semantic_type\": \"\",\n        \"description\": \"\"\n      }\n    },\n    {\n      \"column\": \"Item_Outlet_Sales\",\n      \"properties\": {\n        \"dtype\": \"number\",\n        \"std\": 4518.595122092337,\n        \"min\": 33.29,\n        \"max\": 13086.9648,\n        \"num_unique_values\": 8,\n        \"samples\": [\n          2181.188779387252,\n          1794.331,\n          8519.0\n        ],\n        \"semantic_type\": \"\",\n        \"description\": \"\"\n      }\n    }\n  ]\n}"
            }
          },
          "metadata": {},
          "execution_count": 15
        }
      ]
    },
    {
      "cell_type": "markdown",
      "source": [
        "* Histograma de Item_Visibility\n",
        "Podemos observar que la mayor concentracion de productos esta en los menores rangos de visibilidad, y debería ser al revez para incrementar la venta.\n",
        "\n"
      ],
      "metadata": {
        "id": "R1YAUfGHmZBO"
      }
    },
    {
      "cell_type": "code",
      "source": [
        "df['Item_Visibility'].hist()\n",
        "plt.xticks(rotation = 45)\n",
        "plt.ticklabel_format(useOffset=False, style='plain')"
      ],
      "metadata": {
        "colab": {
          "base_uri": "https://localhost:8080/",
          "height": 447
        },
        "id": "V5EeBGUekkan",
        "outputId": "72d852b0-2c43-4d2a-83ac-4512185afe17"
      },
      "execution_count": 22,
      "outputs": [
        {
          "output_type": "display_data",
          "data": {
            "text/plain": [
              "<Figure size 640x480 with 1 Axes>"
            ],
            "image/png": "[encoded data removed]"
          },
          "metadata": {}
        }
      ]
    },
    {
      "cell_type": "markdown",
      "source": [
        "* Boxplot de Item_Weight\n",
        "En este grafico vemos la distribucion de los pesos de los Items, la cual tiene una mediana justo en la mitad de la media y sin Outliers, lo que nos dice que la muestra es bastante homogenea"
      ],
      "metadata": {
        "id": "78oMy8TFrSsw"
      }
    },
    {
      "cell_type": "code",
      "source": [
        "sns.boxplot(y='Item_Weight', data=df)"
      ],
      "metadata": {
        "colab": {
          "base_uri": "https://localhost:8080/",
          "height": 428
        },
        "id": "oQonQSOvrgN8",
        "outputId": "aea00329-0907-48ae-85b8-613822c8637b"
      },
      "execution_count": 32,
      "outputs": [
        {
          "output_type": "execute_result",
          "data": {
            "text/plain": [
              "<Axes: ylabel='Item_Weight'>"
            ]
          },
          "metadata": {},
          "execution_count": 32
        },
        {
          "output_type": "display_data",
          "data": {
            "text/plain": [
              "<Figure size 640x480 with 1 Axes>"
            ],
            "image/png": "[encoded data removed]"
          },
          "metadata": {}
        }
      ]
    },
    {
      "cell_type": "markdown",
      "source": [
        "* HeatMap\n",
        "Existe casi nula correlacion entre las variables Numericas del Dataframe, excepto Item_MPR y Item_Outlet_Sales, que su correlacion es la mas alta entre ellas, pero sigue siendo un valor bajo."
      ],
      "metadata": {
        "id": "JIMR4S86s8yY"
      }
    },
    {
      "cell_type": "code",
      "source": [
        "#Columnas a correlacionar\n",
        "columnas = ['Item_Weight', 'Item_Visibility', 'Item_MRP', 'Outlet_Establishment_Year', 'Item_Outlet_Sales']\n",
        "dfcolumnas = df[columnas]\n",
        "corr = dfcolumnas.corr()\n",
        "sns.heatmap(corr, annot=True, cmap='coolwarm', fmt=\".2f\")\n"
      ],
      "metadata": {
        "colab": {
          "base_uri": "https://localhost:8080/",
          "height": 623
        },
        "id": "VYqbIYaHs_I0",
        "outputId": "05fe4ef1-541a-472a-80ee-3d723912e13d"
      },
      "execution_count": 42,
      "outputs": [
        {
          "output_type": "execute_result",
          "data": {
            "text/plain": [
              "<Axes: >"
            ]
          },
          "metadata": {},
          "execution_count": 42
        },
        {
          "output_type": "display_data",
          "data": {
            "text/plain": [
              "<Figure size 640x480 with 2 Axes>"
            ],
            "image/png": "[encoded data removed]"
          },
          "metadata": {}
        }
      ]
    }
  ]
}