{
  "nbformat": 4,
  "nbformat_minor": 0,
  "metadata": {
    "colab": {
      "provenance": [],
      "authorship_tag": "ABX9TyNtZI8SuzE0zumZTaHthixM",
      "include_colab_link": true
    },
    "kernelspec": {
      "name": "python3",
      "display_name": "Python 3"
    },
    "language_info": {
      "name": "python"
    }
  },
  "cells": [
    {
      "cell_type": "markdown",
      "metadata": {
        "id": "view-in-github",
        "colab_type": "text"
      },
      "source": [
        "<a href=\"https://colab.research.google.com/github/Kururoll/predicciones-de-ventas/blob/main/predicciones_de_ventas.ipynb\" target=\"_parent\"><img src=\"https://colab.research.google.com/assets/colab-badge.svg\" alt=\"Open In Colab\"/></a>"
      ]
    },
    {
      "cell_type": "code",
      "execution_count": null,
      "metadata": {
        "colab": {
          "base_uri": "https://localhost:8080/"
        },
        "id": "CQG_vRdlRUZ6",
        "outputId": "70def2d0-45f2-42fc-9fde-843a0fcbcea1"
      },
      "outputs": [
        {
          "output_type": "stream",
          "name": "stdout",
          "text": [
            "<class 'pandas.core.frame.DataFrame'>\n",
            "RangeIndex: 8523 entries, 0 to 8522\n",
            "Data columns (total 12 columns):\n",
            " #   Column                     Non-Null Count  Dtype  \n",
            "---  ------                     --------------  -----  \n",
            " 0   Item_Identifier            8523 non-null   object \n",
            " 1   Item_Weight                7060 non-null   float64\n",
            " 2   Item_Fat_Content           8523 non-null   object \n",
            " 3   Item_Visibility            8523 non-null   float64\n",
            " 4   Item_Type                  8523 non-null   object \n",
            " 5   Item_MRP                   8523 non-null   float64\n",
            " 6   Outlet_Identifier          8523 non-null   object \n",
            " 7   Outlet_Establishment_Year  8523 non-null   int64  \n",
            " 8   Outlet_Size                6113 non-null   object \n",
            " 9   Outlet_Location_Type       8523 non-null   object \n",
            " 10  Outlet_Type                8523 non-null   object \n",
            " 11  Item_Outlet_Sales          8523 non-null   float64\n",
            "dtypes: float64(4), int64(1), object(7)\n",
            "memory usage: 799.2+ KB\n"
          ]
        }
      ],
      "source": [
        "import matplotlib.pyplot as plt\n",
        "import pandas as pd\n",
        "import seaborn as sns\n",
        "filename = \"/content/sales_predictions_2023.csv\"\n",
        "df = pd.read_csv(filename)\n",
        "df.info()"
      ]
    },
    {
      "cell_type": "markdown",
      "source": [
        "##Pregunta 1\n",
        "8523 filas y 12 columnas"
      ],
      "metadata": {
        "id": "zEttrTh0Cvp5"
      }
    },
    {
      "cell_type": "markdown",
      "source": [
        "##Pregunta 2\n",
        "Son Objetos, Flotantes y un Entero"
      ],
      "metadata": {
        "id": "qBn7MeXBC0tj"
      }
    },
    {
      "cell_type": "code",
      "source": [
        "df.info()"
      ],
      "metadata": {
        "colab": {
          "base_uri": "https://localhost:8080/"
        },
        "id": "Lc8XTHj5C7KD",
        "outputId": "e04fadd8-66d8-4582-a675-a57babc2fe36"
      },
      "execution_count": null,
      "outputs": [
        {
          "output_type": "stream",
          "name": "stdout",
          "text": [
            "<class 'pandas.core.frame.DataFrame'>\n",
            "RangeIndex: 8523 entries, 0 to 8522\n",
            "Data columns (total 12 columns):\n",
            " #   Column                     Non-Null Count  Dtype  \n",
            "---  ------                     --------------  -----  \n",
            " 0   Item_Identifier            8523 non-null   object \n",
            " 1   Item_Weight                7060 non-null   float64\n",
            " 2   Item_Fat_Content           8523 non-null   object \n",
            " 3   Item_Visibility            8523 non-null   float64\n",
            " 4   Item_Type                  8523 non-null   object \n",
            " 5   Item_MRP                   8523 non-null   float64\n",
            " 6   Outlet_Identifier          8523 non-null   object \n",
            " 7   Outlet_Establishment_Year  8523 non-null   int64  \n",
            " 8   Outlet_Size                6113 non-null   object \n",
            " 9   Outlet_Location_Type       8523 non-null   object \n",
            " 10  Outlet_Type                8523 non-null   object \n",
            " 11  Item_Outlet_Sales          8523 non-null   float64\n",
            "dtypes: float64(4), int64(1), object(7)\n",
            "memory usage: 799.2+ KB\n"
          ]
        }
      ]
    },
    {
      "cell_type": "markdown",
      "source": [
        "##Pregunta 3\n",
        "al parecer, no habrian duplicados"
      ],
      "metadata": {
        "id": "sUlNUOoYDMiJ"
      }
    },
    {
      "cell_type": "code",
      "source": [
        "df = df.drop_duplicates()\n",
        "df.info()"
      ],
      "metadata": {
        "colab": {
          "base_uri": "https://localhost:8080/"
        },
        "id": "rqa1AAqIDOjm",
        "outputId": "38b7da92-99f1-4047-8d17-d6c59563fd23"
      },
      "execution_count": null,
      "outputs": [
        {
          "output_type": "stream",
          "name": "stdout",
          "text": [
            "<class 'pandas.core.frame.DataFrame'>\n",
            "RangeIndex: 8523 entries, 0 to 8522\n",
            "Data columns (total 12 columns):\n",
            " #   Column                     Non-Null Count  Dtype  \n",
            "---  ------                     --------------  -----  \n",
            " 0   Item_Identifier            8523 non-null   object \n",
            " 1   Item_Weight                7060 non-null   float64\n",
            " 2   Item_Fat_Content           8523 non-null   object \n",
            " 3   Item_Visibility            8523 non-null   float64\n",
            " 4   Item_Type                  8523 non-null   object \n",
            " 5   Item_MRP                   8523 non-null   float64\n",
            " 6   Outlet_Identifier          8523 non-null   object \n",
            " 7   Outlet_Establishment_Year  8523 non-null   int64  \n",
            " 8   Outlet_Size                6113 non-null   object \n",
            " 9   Outlet_Location_Type       8523 non-null   object \n",
            " 10  Outlet_Type                8523 non-null   object \n",
            " 11  Item_Outlet_Sales          8523 non-null   float64\n",
            "dtypes: float64(4), int64(1), object(7)\n",
            "memory usage: 799.2+ KB\n"
          ]
        }
      ]
    },
    {
      "cell_type": "markdown",
      "source": [
        "##Pregunta 4\n",
        "Faltan 1463 datos en la columna Item_Weight y 2410 datos en la columna Outlet_Size"
      ],
      "metadata": {
        "id": "3spr5n_aDsiX"
      }
    },
    {
      "cell_type": "code",
      "source": [
        "df.isna().sum()"
      ],
      "metadata": {
        "colab": {
          "base_uri": "https://localhost:8080/"
        },
        "id": "S9_qZ7z0Dwo-",
        "outputId": "5c4648f7-7bbc-4421-94d1-a5c2005979a1"
      },
      "execution_count": null,
      "outputs": [
        {
          "output_type": "execute_result",
          "data": {
            "text/plain": [
              "Item_Identifier                 0\n",
              "Item_Weight                  1463\n",
              "Item_Fat_Content                0\n",
              "Item_Visibility                 0\n",
              "Item_Type                       0\n",
              "Item_MRP                        0\n",
              "Outlet_Identifier               0\n",
              "Outlet_Establishment_Year       0\n",
              "Outlet_Size                  2410\n",
              "Outlet_Location_Type            0\n",
              "Outlet_Type                     0\n",
              "Item_Outlet_Sales               0\n",
              "dtype: int64"
            ]
          },
          "metadata": {},
          "execution_count": 32
        }
      ]
    },
    {
      "cell_type": "markdown",
      "source": [
        "#Pregunta 5\n",
        "Para el caso de Item_Weight, calcule un promedio por codigo identificador (que deberia ser unico para cada producto) y luego rellene los valores vacios con el promedio por identificador, lo que restas son 4 registros con NaN, por lo que elimine esos 4 registros.\n",
        "\n",
        "Para el caso del Outlet_Size\n",
        "realizo un groupby de Outlet_Type con Outlet_Size para ver el cruce de informacion. Luego, sumo los valores NA por Outlet_Type cruzaod con Outlet_Size para comparar con el groupby realizado anteriormente, con esto me percato de que toda Grocery Store es Outlet_Size Small, por lo que procedo a rellenar los nulos entre ambos cruces (Grocery Store = Small) Luego de realizar varios cruces mas por las columnas de Outlet, me di cuenta que los datos faltantes pertenecen a Tier 2 de Outlet_Location_Type, por lo que rellene los valores con \"Small\" ya que es el valor que mas se repite en Tier 2 con valores."
      ],
      "metadata": {
        "id": "SuQI0DoIECru"
      }
    },
    {
      "cell_type": "code",
      "source": [
        "#Primero Item_Weight.\n",
        "\n",
        "promedio = df.groupby('Item_Identifier')['Item_Weight'].transform('mean')\n",
        "df['Item_Weight'].fillna(promedio, inplace=True)\n",
        "\n",
        "#con esto, ya quedan solo 4 datos sin dato en Item_Weight, y dado que es una muestra muy chica, los borro\n",
        "df.dropna(subset=['Item_Weight'], inplace=True)\n",
        "\n",
        "df[\"Outlet_Identifier\"].value_counts()\n",
        "\n",
        "df.groupby('Outlet_Identifier')['Outlet_Size'].value_counts()\n",
        "\n",
        "df.loc[(df[\"Outlet_Size\"].isnull()) & (df[\"Outlet_Type\"] == \"Grocery Store\"), \"Outlet_Size\"] = \"Small\"\n",
        "\n",
        "df.loc[(df[\"Outlet_Size\"].isnull()) & (df[\"Outlet_Location_Type\"] == \"Tier 2\"), \"Outlet_Size\"] = \"Small\"\n",
        "\n",
        "df.groupby([\"Outlet_Location_Type\"] )[\"Outlet_Size\"].apply(lambda x: x.isnull().sum())\n",
        "df.info()"
      ],
      "metadata": {
        "colab": {
          "base_uri": "https://localhost:8080/"
        },
        "id": "jHWt9iqiEMQa",
        "outputId": "c5f578d9-6e2e-4d15-8c89-1f5a6e9c5b3c"
      },
      "execution_count": null,
      "outputs": [
        {
          "output_type": "stream",
          "name": "stdout",
          "text": [
            "<class 'pandas.core.frame.DataFrame'>\n",
            "Index: 8519 entries, 0 to 8522\n",
            "Data columns (total 12 columns):\n",
            " #   Column                     Non-Null Count  Dtype  \n",
            "---  ------                     --------------  -----  \n",
            " 0   Item_Identifier            8519 non-null   object \n",
            " 1   Item_Weight                8519 non-null   float64\n",
            " 2   Item_Fat_Content           8519 non-null   object \n",
            " 3   Item_Visibility            8519 non-null   float64\n",
            " 4   Item_Type                  8519 non-null   object \n",
            " 5   Item_MRP                   8519 non-null   float64\n",
            " 6   Outlet_Identifier          8519 non-null   object \n",
            " 7   Outlet_Establishment_Year  8519 non-null   int64  \n",
            " 8   Outlet_Size                8519 non-null   object \n",
            " 9   Outlet_Location_Type       8519 non-null   object \n",
            " 10  Outlet_Type                8519 non-null   object \n",
            " 11  Item_Outlet_Sales          8519 non-null   float64\n",
            "dtypes: float64(4), int64(1), object(7)\n",
            "memory usage: 865.2+ KB\n"
          ]
        }
      ]
    },
    {
      "cell_type": "code",
      "source": [
        "df.groupby([\"Outlet_Location_Type\"])['Outlet_Size'].value_counts()"
      ],
      "metadata": {
        "id": "o1YmvgLcjvpQ",
        "colab": {
          "base_uri": "https://localhost:8080/"
        },
        "outputId": "5b1cbb73-11ec-4737-b27c-64a8c539005b"
      },
      "execution_count": null,
      "outputs": [
        {
          "output_type": "execute_result",
          "data": {
            "text/plain": [
              "Outlet_Location_Type  Outlet_Size\n",
              "Tier 1                Small          1457\n",
              "                      Medium          930\n",
              "Tier 2                Small          2785\n",
              "Tier 3                Medium         1860\n",
              "                      High            932\n",
              "                      Small           555\n",
              "Name: count, dtype: int64"
            ]
          },
          "metadata": {},
          "execution_count": 34
        }
      ]
    },
    {
      "cell_type": "markdown",
      "source": [
        "##Pregunta 6"
      ],
      "metadata": {
        "id": "Z01DE_YlZt92"
      }
    },
    {
      "cell_type": "code",
      "source": [
        "df.isna().sum()"
      ],
      "metadata": {
        "id": "GhwE6w6WZvb2",
        "colab": {
          "base_uri": "https://localhost:8080/"
        },
        "outputId": "1c9640f4-c338-4469-8101-a362b3cdac6a"
      },
      "execution_count": null,
      "outputs": [
        {
          "output_type": "execute_result",
          "data": {
            "text/plain": [
              "Item_Identifier              0\n",
              "Item_Weight                  0\n",
              "Item_Fat_Content             0\n",
              "Item_Visibility              0\n",
              "Item_Type                    0\n",
              "Item_MRP                     0\n",
              "Outlet_Identifier            0\n",
              "Outlet_Establishment_Year    0\n",
              "Outlet_Size                  0\n",
              "Outlet_Location_Type         0\n",
              "Outlet_Type                  0\n",
              "Item_Outlet_Sales            0\n",
              "dtype: int64"
            ]
          },
          "metadata": {},
          "execution_count": 35
        }
      ]
    },
    {
      "cell_type": "markdown",
      "source": [
        "##Pregunta 7\n"
      ],
      "metadata": {
        "id": "ObvuLrENZ3g6"
      }
    },
    {
      "cell_type": "code",
      "source": [
        "df[\"Item_Fat_Content\"].value_counts() #contiene errores Tiene low fat, LF y reg malos, deberian ser Low Fat o Regular\n",
        "#df[\"Item_Type\"].value_counts()\n",
        "#df[\"Item_MRP\"].value_counts()\n",
        "#df[\"Outlet_Establishment_Year\"].value_counts()\n",
        "#df[\"Outlet_Size\"].value_counts()\n",
        "#df[\"Outlet_Location_Type\"].value_counts()\n",
        "#df[\"Outlet_Type\"].value_counts()\n",
        "#df[\"Item_Outlet_Sales\"].value_counts()\n",
        "#Procedo a corregir valores en Item_Fat_Content que es lo unico extraño que encontre\n",
        "df.loc[df[\"Item_Fat_Content\"] == \"low fat\", \"Item_Fat_Content\"] = \"Low Fat\"\n",
        "df.loc[df[\"Item_Fat_Content\"] == \"reg\", \"Item_Fat_Content\"] = \"Regular\"\n",
        "df.loc[df[\"Item_Fat_Content\"] == \"LF\", \"Item_Fat_Content\"] = \"Low Fat\"\n",
        "df[\"Item_Fat_Content\"].value_counts()\n",
        "df.info()"
      ],
      "metadata": {
        "id": "HyJEYc0_rvlx",
        "colab": {
          "base_uri": "https://localhost:8080/"
        },
        "outputId": "fa3c9e17-04dc-4eb3-cc1e-98922bccfabe"
      },
      "execution_count": null,
      "outputs": [
        {
          "output_type": "stream",
          "name": "stdout",
          "text": [
            "<class 'pandas.core.frame.DataFrame'>\n",
            "Index: 8519 entries, 0 to 8522\n",
            "Data columns (total 12 columns):\n",
            " #   Column                     Non-Null Count  Dtype  \n",
            "---  ------                     --------------  -----  \n",
            " 0   Item_Identifier            8519 non-null   object \n",
            " 1   Item_Weight                8519 non-null   float64\n",
            " 2   Item_Fat_Content           8519 non-null   object \n",
            " 3   Item_Visibility            8519 non-null   float64\n",
            " 4   Item_Type                  8519 non-null   object \n",
            " 5   Item_MRP                   8519 non-null   float64\n",
            " 6   Outlet_Identifier          8519 non-null   object \n",
            " 7   Outlet_Establishment_Year  8519 non-null   int64  \n",
            " 8   Outlet_Size                8519 non-null   object \n",
            " 9   Outlet_Location_Type       8519 non-null   object \n",
            " 10  Outlet_Type                8519 non-null   object \n",
            " 11  Item_Outlet_Sales          8519 non-null   float64\n",
            "dtypes: float64(4), int64(1), object(7)\n",
            "memory usage: 865.2+ KB\n"
          ]
        }
      ]
    },
    {
      "cell_type": "markdown",
      "source": [
        "##Pregunta 8"
      ],
      "metadata": {
        "id": "lbQT3oFmZ5DK"
      }
    },
    {
      "cell_type": "code",
      "source": [
        "df.describe()"
      ],
      "metadata": {
        "id": "vhWt4Nt6Z6Ve",
        "colab": {
          "base_uri": "https://localhost:8080/",
          "height": 300
        },
        "outputId": "2851087b-6df4-4b24-ef5a-a6bfc7968f0b"
      },
      "execution_count": null,
      "outputs": [
        {
          "output_type": "execute_result",
          "data": {
            "text/plain": [
              "       Item_Weight  Item_Visibility     Item_MRP  Outlet_Establishment_Year  \\\n",
              "count  8519.000000      8519.000000  8519.000000                8519.000000   \n",
              "mean     12.875420         0.066112   141.010019                1997.837892   \n",
              "std       4.646098         0.051586    62.283594                   8.369105   \n",
              "min       4.555000         0.000000    31.290000                1985.000000   \n",
              "25%       8.785000         0.026983    93.844900                1987.000000   \n",
              "50%      12.650000         0.053925   143.047000                1999.000000   \n",
              "75%      16.850000         0.094558   185.676600                2004.000000   \n",
              "max      21.350000         0.328391   266.888400                2009.000000   \n",
              "\n",
              "       Item_Outlet_Sales  \n",
              "count        8519.000000  \n",
              "mean         2181.188779  \n",
              "std          1706.511093  \n",
              "min            33.290000  \n",
              "25%           834.247400  \n",
              "50%          1794.331000  \n",
              "75%          3100.630600  \n",
              "max         13086.964800  "
            ],
            "text/html": [
              "\n",
              "  <div id=\"df-1358f0c7-25f5-4a20-99a6-c1b2a3d6ca9d\" class=\"colab-df-container\">\n",
              "    <div>\n",
              "<style scoped>\n",
              "    .dataframe tbody tr th:only-of-type {\n",
              "        vertical-align: middle;\n",
              "    }\n",
              "\n",
              "    .dataframe tbody tr th {\n",
              "        vertical-align: top;\n",
              "    }\n",
              "\n",
              "    .dataframe thead th {\n",
              "        text-align: right;\n",
              "    }\n",
              "</style>\n",
              "<table border=\"1\" class=\"dataframe\">\n",
              "  <thead>\n",
              "    <tr style=\"text-align: right;\">\n",
              "      <th></th>\n",
              "      <th>Item_Weight</th>\n",
              "      <th>Item_Visibility</th>\n",
              "      <th>Item_MRP</th>\n",
              "      <th>Outlet_Establishment_Year</th>\n",
              "      <th>Item_Outlet_Sales</th>\n",
              "    </tr>\n",
              "  </thead>\n",
              "  <tbody>\n",
              "    <tr>\n",
              "      <th>count</th>\n",
              "      <td>8519.000000</td>\n",
              "      <td>8519.000000</td>\n",
              "      <td>8519.000000</td>\n",
              "      <td>8519.000000</td>\n",
              "      <td>8519.000000</td>\n",
              "    </tr>\n",
              "    <tr>\n",
              "      <th>mean</th>\n",
              "      <td>12.875420</td>\n",
              "      <td>0.066112</td>\n",
              "      <td>141.010019</td>\n",
              "      <td>1997.837892</td>\n",
              "      <td>2181.188779</td>\n",
              "    </tr>\n",
              "    <tr>\n",
              "      <th>std</th>\n",
              "      <td>4.646098</td>\n",
              "      <td>0.051586</td>\n",
              "      <td>62.283594</td>\n",
              "      <td>8.369105</td>\n",
              "      <td>1706.511093</td>\n",
              "    </tr>\n",
              "    <tr>\n",
              "      <th>min</th>\n",
              "      <td>4.555000</td>\n",
              "      <td>0.000000</td>\n",
              "      <td>31.290000</td>\n",
              "      <td>1985.000000</td>\n",
              "      <td>33.290000</td>\n",
              "    </tr>\n",
              "    <tr>\n",
              "      <th>25%</th>\n",
              "      <td>8.785000</td>\n",
              "      <td>0.026983</td>\n",
              "      <td>93.844900</td>\n",
              "      <td>1987.000000</td>\n",
              "      <td>834.247400</td>\n",
              "    </tr>\n",
              "    <tr>\n",
              "      <th>50%</th>\n",
              "      <td>12.650000</td>\n",
              "      <td>0.053925</td>\n",
              "      <td>143.047000</td>\n",
              "      <td>1999.000000</td>\n",
              "      <td>1794.331000</td>\n",
              "    </tr>\n",
              "    <tr>\n",
              "      <th>75%</th>\n",
              "      <td>16.850000</td>\n",
              "      <td>0.094558</td>\n",
              "      <td>185.676600</td>\n",
              "      <td>2004.000000</td>\n",
              "      <td>3100.630600</td>\n",
              "    </tr>\n",
              "    <tr>\n",
              "      <th>max</th>\n",
              "      <td>21.350000</td>\n",
              "      <td>0.328391</td>\n",
              "      <td>266.888400</td>\n",
              "      <td>2009.000000</td>\n",
              "      <td>13086.964800</td>\n",
              "    </tr>\n",
              "  </tbody>\n",
              "</table>\n",
              "</div>\n",
              "    <div class=\"colab-df-buttons\">\n",
              "\n",
              "  <div class=\"colab-df-container\">\n",
              "    <button class=\"colab-df-convert\" onclick=\"convertToInteractive('df-1358f0c7-25f5-4a20-99a6-c1b2a3d6ca9d')\"\n",
              "            title=\"Convert this dataframe to an interactive table.\"\n",
              "            style=\"display:none;\">\n",
              "\n",
              "  <svg xmlns=\"http://www.w3.org/2000/svg\" height=\"24px\" viewBox=\"0 -960 960 960\">\n",
              "    <path d=\"M120-120v-720h720v720H120Zm60-500h600v-160H180v160Zm220 220h160v-160H400v160Zm0 220h160v-160H400v160ZM180-400h160v-160H180v160Zm440 0h160v-160H620v160ZM180-180h160v-160H180v160Zm440 0h160v-160H620v160Z\"/>\n",
              "  </svg>\n",
              "    </button>\n",
              "\n",
              "  <style>\n",
              "    .colab-df-container {\n",
              "      display:flex;\n",
              "      gap: 12px;\n",
              "    }\n",
              "\n",
              "    .colab-df-convert {\n",
              "      background-color: #E8F0FE;\n",
              "      border: none;\n",
              "      border-radius: 50%;\n",
              "      cursor: pointer;\n",
              "      display: none;\n",
              "      fill: #1967D2;\n",
              "      height: 32px;\n",
              "      padding: 0 0 0 0;\n",
              "      width: 32px;\n",
              "    }\n",
              "\n",
              "    .colab-df-convert:hover {\n",
              "      background-color: #E2EBFA;\n",
              "      box-shadow: 0px 1px 2px rgba(60, 64, 67, 0.3), 0px 1px 3px 1px rgba(60, 64, 67, 0.15);\n",
              "      fill: #174EA6;\n",
              "    }\n",
              "\n",
              "    .colab-df-buttons div {\n",
              "      margin-bottom: 4px;\n",
              "    }\n",
              "\n",
              "    [theme=dark] .colab-df-convert {\n",
              "      background-color: #3B4455;\n",
              "      fill: #D2E3FC;\n",
              "    }\n",
              "\n",
              "    [theme=dark] .colab-df-convert:hover {\n",
              "      background-color: #434B5C;\n",
              "      box-shadow: 0px 1px 3px 1px rgba(0, 0, 0, 0.15);\n",
              "      filter: drop-shadow(0px 1px 2px rgba(0, 0, 0, 0.3));\n",
              "      fill: #FFFFFF;\n",
              "    }\n",
              "  </style>\n",
              "\n",
              "    <script>\n",
              "      const buttonEl =\n",
              "        document.querySelector('#df-1358f0c7-25f5-4a20-99a6-c1b2a3d6ca9d button.colab-df-convert');\n",
              "      buttonEl.style.display =\n",
              "        google.colab.kernel.accessAllowed ? 'block' : 'none';\n",
              "\n",
              "      async function convertToInteractive(key) {\n",
              "        const element = document.querySelector('#df-1358f0c7-25f5-4a20-99a6-c1b2a3d6ca9d');\n",
              "        const dataTable =\n",
              "          await google.colab.kernel.invokeFunction('convertToInteractive',\n",
              "                                                    [key], {});\n",
              "        if (!dataTable) return;\n",
              "\n",
              "        const docLinkHtml = 'Like what you see? Visit the ' +\n",
              "          '<a target=\"_blank\" href=https://colab.research.google.com/notebooks/data_table.ipynb>data table notebook</a>'\n",
              "          + ' to learn more about interactive tables.';\n",
              "        element.innerHTML = '';\n",
              "        dataTable['output_type'] = 'display_data';\n",
              "        await google.colab.output.renderOutput(dataTable, element);\n",
              "        const docLink = document.createElement('div');\n",
              "        docLink.innerHTML = docLinkHtml;\n",
              "        element.appendChild(docLink);\n",
              "      }\n",
              "    </script>\n",
              "  </div>\n",
              "\n",
              "\n",
              "<div id=\"df-27339728-8dca-4897-9d20-0f857ff4769b\">\n",
              "  <button class=\"colab-df-quickchart\" onclick=\"quickchart('df-27339728-8dca-4897-9d20-0f857ff4769b')\"\n",
              "            title=\"Suggest charts\"\n",
              "            style=\"display:none;\">\n",
              "\n",
              "<svg xmlns=\"http://www.w3.org/2000/svg\" height=\"24px\"viewBox=\"0 0 24 24\"\n",
              "     width=\"24px\">\n",
              "    <g>\n",
              "        <path d=\"M19 3H5c-1.1 0-2 .9-2 2v14c0 1.1.9 2 2 2h14c1.1 0 2-.9 2-2V5c0-1.1-.9-2-2-2zM9 17H7v-7h2v7zm4 0h-2V7h2v10zm4 0h-2v-4h2v4z\"/>\n",
              "    </g>\n",
              "</svg>\n",
              "  </button>\n",
              "\n",
              "<style>\n",
              "  .colab-df-quickchart {\n",
              "      --bg-color: #E8F0FE;\n",
              "      --fill-color: #1967D2;\n",
              "      --hover-bg-color: #E2EBFA;\n",
              "      --hover-fill-color: #174EA6;\n",
              "      --disabled-fill-color: #AAA;\n",
              "      --disabled-bg-color: #DDD;\n",
              "  }\n",
              "\n",
              "  [theme=dark] .colab-df-quickchart {\n",
              "      --bg-color: #3B4455;\n",
              "      --fill-color: #D2E3FC;\n",
              "      --hover-bg-color: #434B5C;\n",
              "      --hover-fill-color: #FFFFFF;\n",
              "      --disabled-bg-color: #3B4455;\n",
              "      --disabled-fill-color: #666;\n",
              "  }\n",
              "\n",
              "  .colab-df-quickchart {\n",
              "    background-color: var(--bg-color);\n",
              "    border: none;\n",
              "    border-radius: 50%;\n",
              "    cursor: pointer;\n",
              "    display: none;\n",
              "    fill: var(--fill-color);\n",
              "    height: 32px;\n",
              "    padding: 0;\n",
              "    width: 32px;\n",
              "  }\n",
              "\n",
              "  .colab-df-quickchart:hover {\n",
              "    background-color: var(--hover-bg-color);\n",
              "    box-shadow: 0 1px 2px rgba(60, 64, 67, 0.3), 0 1px 3px 1px rgba(60, 64, 67, 0.15);\n",
              "    fill: var(--button-hover-fill-color);\n",
              "  }\n",
              "\n",
              "  .colab-df-quickchart-complete:disabled,\n",
              "  .colab-df-quickchart-complete:disabled:hover {\n",
              "    background-color: var(--disabled-bg-color);\n",
              "    fill: var(--disabled-fill-color);\n",
              "    box-shadow: none;\n",
              "  }\n",
              "\n",
              "  .colab-df-spinner {\n",
              "    border: 2px solid var(--fill-color);\n",
              "    border-color: transparent;\n",
              "    border-bottom-color: var(--fill-color);\n",
              "    animation:\n",
              "      spin 1s steps(1) infinite;\n",
              "  }\n",
              "\n",
              "  @keyframes spin {\n",
              "    0% {\n",
              "      border-color: transparent;\n",
              "      border-bottom-color: var(--fill-color);\n",
              "      border-left-color: var(--fill-color);\n",
              "    }\n",
              "    20% {\n",
              "      border-color: transparent;\n",
              "      border-left-color: var(--fill-color);\n",
              "      border-top-color: var(--fill-color);\n",
              "    }\n",
              "    30% {\n",
              "      border-color: transparent;\n",
              "      border-left-color: var(--fill-color);\n",
              "      border-top-color: var(--fill-color);\n",
              "      border-right-color: var(--fill-color);\n",
              "    }\n",
              "    40% {\n",
              "      border-color: transparent;\n",
              "      border-right-color: var(--fill-color);\n",
              "      border-top-color: var(--fill-color);\n",
              "    }\n",
              "    60% {\n",
              "      border-color: transparent;\n",
              "      border-right-color: var(--fill-color);\n",
              "    }\n",
              "    80% {\n",
              "      border-color: transparent;\n",
              "      border-right-color: var(--fill-color);\n",
              "      border-bottom-color: var(--fill-color);\n",
              "    }\n",
              "    90% {\n",
              "      border-color: transparent;\n",
              "      border-bottom-color: var(--fill-color);\n",
              "    }\n",
              "  }\n",
              "</style>\n",
              "\n",
              "  <script>\n",
              "    async function quickchart(key) {\n",
              "      const quickchartButtonEl =\n",
              "        document.querySelector('#' + key + ' button');\n",
              "      quickchartButtonEl.disabled = true;  // To prevent multiple clicks.\n",
              "      quickchartButtonEl.classList.add('colab-df-spinner');\n",
              "      try {\n",
              "        const charts = await google.colab.kernel.invokeFunction(\n",
              "            'suggestCharts', [key], {});\n",
              "      } catch (error) {\n",
              "        console.error('Error during call to suggestCharts:', error);\n",
              "      }\n",
              "      quickchartButtonEl.classList.remove('colab-df-spinner');\n",
              "      quickchartButtonEl.classList.add('colab-df-quickchart-complete');\n",
              "    }\n",
              "    (() => {\n",
              "      let quickchartButtonEl =\n",
              "        document.querySelector('#df-27339728-8dca-4897-9d20-0f857ff4769b button');\n",
              "      quickchartButtonEl.style.display =\n",
              "        google.colab.kernel.accessAllowed ? 'block' : 'none';\n",
              "    })();\n",
              "  </script>\n",
              "</div>\n",
              "\n",
              "    </div>\n",
              "  </div>\n"
            ],
            "application/vnd.google.colaboratory.intrinsic+json": {
              "type": "dataframe",
              "summary": "{\n  \"name\": \"df\",\n  \"rows\": 8,\n  \"fields\": [\n    {\n      \"column\": \"Item_Weight\",\n      \"properties\": {\n        \"dtype\": \"number\",\n        \"std\": 3007.7997707408636,\n        \"min\": 4.555,\n        \"max\": 8519.0,\n        \"num_unique_values\": 8,\n        \"samples\": [\n          12.875420237117032,\n          12.65,\n          8519.0\n        ],\n        \"semantic_type\": \"\",\n        \"description\": \"\"\n      }\n    },\n    {\n      \"column\": \"Item_Visibility\",\n      \"properties\": {\n        \"dtype\": \"number\",\n        \"std\": 3011.8899429071244,\n        \"min\": 0.0,\n        \"max\": 8519.0,\n        \"num_unique_values\": 8,\n        \"samples\": [\n          0.06611236082486209,\n          0.053924587,\n          8519.0\n        ],\n        \"semantic_type\": \"\",\n        \"description\": \"\"\n      }\n    },\n    {\n      \"column\": \"Item_MRP\",\n      \"properties\": {\n        \"dtype\": \"number\",\n        \"std\": 2966.1591541750736,\n        \"min\": 31.29,\n        \"max\": 8519.0,\n        \"num_unique_values\": 8,\n        \"samples\": [\n          141.0100194623782,\n          143.047,\n          8519.0\n        ],\n        \"semantic_type\": \"\",\n        \"description\": \"\"\n      }\n    },\n    {\n      \"column\": \"Outlet_Establishment_Year\",\n      \"properties\": {\n        \"dtype\": \"number\",\n        \"std\": 2504.9332134459232,\n        \"min\": 8.369105468132409,\n        \"max\": 8519.0,\n        \"num_unique_values\": 8,\n        \"samples\": [\n          1997.8378917713346,\n          1999.0,\n          8519.0\n        ],\n        \"semantic_type\": \"\",\n        \"description\": \"\"\n      }\n    },\n    {\n      \"column\": \"Item_Outlet_Sales\",\n      \"properties\": {\n        \"dtype\": \"number\",\n        \"std\": 4518.595122092337,\n        \"min\": 33.29,\n        \"max\": 13086.9648,\n        \"num_unique_values\": 8,\n        \"samples\": [\n          2181.188779387252,\n          1794.331,\n          8519.0\n        ],\n        \"semantic_type\": \"\",\n        \"description\": \"\"\n      }\n    }\n  ]\n}"
            }
          },
          "metadata": {},
          "execution_count": 37
        }
      ]
    },
    {
      "cell_type": "markdown",
      "source": [
        "* Histograma de Item_Visibility\n",
        "Podemos observar que la mayor concentracion de productos esta en los menores rangos de visibilidad, y debería ser al revez para incrementar la venta.\n",
        "\n"
      ],
      "metadata": {
        "id": "R1YAUfGHmZBO"
      }
    },
    {
      "cell_type": "code",
      "source": [
        "df['Item_Visibility'].hist()\n",
        "plt.xticks(rotation = 45)\n",
        "plt.ticklabel_format(useOffset=False, style='plain')"
      ],
      "metadata": {
        "colab": {
          "base_uri": "https://localhost:8080/",
          "height": 447
        },
        "id": "V5EeBGUekkan",
        "outputId": "6e7d3843-540e-478b-9396-ab110aa105b6"
      },
      "execution_count": null,
      "outputs": [
        {
          "output_type": "display_data",
          "data": {
            "text/plain": [
              "<Figure size 640x480 with 1 Axes>"
            ],
            "image/png": "[encoded data removed]"
          },
          "metadata": {}
        }
      ]
    },
    {
      "cell_type": "markdown",
      "source": [
        "* Boxplot de Item_Weight\n",
        "En este grafico vemos la distribucion de los pesos de los Items, la cual tiene una mediana justo en la mitad de la media y sin Outliers, lo que nos dice que la muestra es bastante homogenea"
      ],
      "metadata": {
        "id": "78oMy8TFrSsw"
      }
    },
    {
      "cell_type": "code",
      "source": [
        "sns.boxplot(y='Item_Weight', data=df)"
      ],
      "metadata": {
        "colab": {
          "base_uri": "https://localhost:8080/",
          "height": 428
        },
        "id": "oQonQSOvrgN8",
        "outputId": "fdb86af6-6438-4dc2-9a2a-6f70b453264b"
      },
      "execution_count": null,
      "outputs": [
        {
          "output_type": "execute_result",
          "data": {
            "text/plain": [
              "<Axes: ylabel='Item_Weight'>"
            ]
          },
          "metadata": {},
          "execution_count": 39
        },
        {
          "output_type": "display_data",
          "data": {
            "text/plain": [
              "<Figure size 640x480 with 1 Axes>"
            ],
            "image/png": "[encoded data removed]"
          },
          "metadata": {}
        }
      ]
    },
    {
      "cell_type": "markdown",
      "source": [
        "* HeatMap\n",
        "Existe casi nula correlacion entre las variables Numericas del Dataframe, excepto Item_MPR y Item_Outlet_Sales, que su correlacion es la mas alta entre ellas, pero sigue siendo un valor bajo."
      ],
      "metadata": {
        "id": "JIMR4S86s8yY"
      }
    },
    {
      "cell_type": "code",
      "source": [
        "#Columnas a correlacionar\n",
        "columnas = ['Item_Weight', 'Item_Visibility', 'Item_MRP', 'Outlet_Establishment_Year', 'Item_Outlet_Sales']\n",
        "dfcolumnas = df[columnas]\n",
        "corr = dfcolumnas.corr()\n",
        "sns.heatmap(corr, annot=True, cmap='coolwarm', fmt=\".2f\")\n"
      ],
      "metadata": {
        "colab": {
          "base_uri": "https://localhost:8080/",
          "height": 623
        },
        "id": "VYqbIYaHs_I0",
        "outputId": "f650c7e6-1f9c-4402-ba9c-011f16993bed"
      },
      "execution_count": null,
      "outputs": [
        {
          "output_type": "execute_result",
          "data": {
            "text/plain": [
              "<Axes: >"
            ]
          },
          "metadata": {},
          "execution_count": 40
        },
        {
          "output_type": "display_data",
          "data": {
            "text/plain": [
              "<Figure size 640x480 with 2 Axes>"
            ],
            "image/png": "[encoded data removed]"
          },
          "metadata": {}
        }
      ]
    },
    {
      "cell_type": "markdown",
      "source": [
        "##Nuevo Data Set y Librerias"
      ],
      "metadata": {
        "id": "LJw1XDkr5D6D"
      }
    },
    {
      "cell_type": "code",
      "source": [
        "import pandas as pd\n",
        "import numpy as np\n",
        "from sklearn.preprocessing import StandardScaler, OneHotEncoder\n",
        "from sklearn.impute import SimpleImputer\n",
        "from sklearn.compose import ColumnTransformer\n",
        "from sklearn.pipeline import Pipeline\n",
        "from sklearn.model_selection import train_test_split\n",
        "from sklearn import set_config\n",
        "set_config(display='diagram')\n",
        "\n",
        "df2 = pd.read_csv(filename)"
      ],
      "metadata": {
        "id": "MMrtAzC55HyN"
      },
      "execution_count": null,
      "outputs": []
    },
    {
      "cell_type": "markdown",
      "source": [
        "* Voy a cambair la columna Outlet_Size previo a la division X e y ya que es una columna ordinal y no deberia tener fuga de datos este cambio. NOTA: Solo cambiare los datos que ya existen, los nulos de la columna no los voy a tocar."
      ],
      "metadata": {
        "id": "JJ9qlXkQ8Wj7"
      }
    },
    {
      "cell_type": "code",
      "source": [
        "cambios_outletsize = {\"Small\": 1, \"Medium\": 2, \"High\": 3}\n",
        "df2[\"Outlet_Size\"] = df2[\"Outlet_Size\"].replace(cambios_outletsize)\n",
        "y = df2[\"Item_Outlet_Sales\"]\n",
        "X = df2.drop(\"Item_Outlet_Sales\", axis=1)\n",
        "X.info()"
      ],
      "metadata": {
        "colab": {
          "base_uri": "https://localhost:8080/"
        },
        "id": "MHGuZNHE5ZS1",
        "outputId": "b5c2dfd2-c520-40e0-d051-f3be58b8035d"
      },
      "execution_count": null,
      "outputs": [
        {
          "output_type": "stream",
          "name": "stdout",
          "text": [
            "<class 'pandas.core.frame.DataFrame'>\n",
            "RangeIndex: 8523 entries, 0 to 8522\n",
            "Data columns (total 11 columns):\n",
            " #   Column                     Non-Null Count  Dtype  \n",
            "---  ------                     --------------  -----  \n",
            " 0   Item_Identifier            8523 non-null   object \n",
            " 1   Item_Weight                7060 non-null   float64\n",
            " 2   Item_Fat_Content           8523 non-null   object \n",
            " 3   Item_Visibility            8523 non-null   float64\n",
            " 4   Item_Type                  8523 non-null   object \n",
            " 5   Item_MRP                   8523 non-null   float64\n",
            " 6   Outlet_Identifier          8523 non-null   object \n",
            " 7   Outlet_Establishment_Year  8523 non-null   int64  \n",
            " 8   Outlet_Size                6113 non-null   float64\n",
            " 9   Outlet_Location_Type       8523 non-null   object \n",
            " 10  Outlet_Type                8523 non-null   object \n",
            "dtypes: float64(4), int64(1), object(6)\n",
            "memory usage: 732.6+ KB\n"
          ]
        }
      ]
    },
    {
      "cell_type": "code",
      "source": [
        "X_train, X_test, y_train, y_test = train_test_split(X, y, random_state=42)"
      ],
      "metadata": {
        "id": "Yd_PqxfX69E2"
      },
      "execution_count": null,
      "outputs": []
    },
    {
      "cell_type": "code",
      "source": [
        "print(X_train.shape)\n",
        "print(X_test.shape)\n",
        "print(y_train.shape)\n",
        "print(y_test.shape)\n",
        "X_train[\"Outlet_Size\"].value_counts()"
      ],
      "metadata": {
        "colab": {
          "base_uri": "https://localhost:8080/"
        },
        "id": "eOQi1Wbm7H0F",
        "outputId": "6287deb0-019a-4f33-e89b-98994bbe967d"
      },
      "execution_count": null,
      "outputs": [
        {
          "output_type": "stream",
          "name": "stdout",
          "text": [
            "(6392, 11)\n",
            "(2131, 11)\n",
            "(6392,)\n",
            "(2131,)\n"
          ]
        },
        {
          "output_type": "execute_result",
          "data": {
            "text/plain": [
              "Outlet_Size\n",
              "2.0    2103\n",
              "1.0    1788\n",
              "3.0     689\n",
              "Name: count, dtype: int64"
            ]
          },
          "metadata": {},
          "execution_count": 44
        }
      ]
    },
    {
      "cell_type": "code",
      "source": [
        "columnas_categoricas = X_train.select_dtypes(include=['object']).columns.tolist()\n",
        "columnas_numericas = X_train.select_dtypes(include=['number']).drop(columns=[\"Outlet_Size\"]).columns.tolist()\n",
        "columna_outlet = [\"Outlet_Size\"]\n"
      ],
      "metadata": {
        "id": "BXbeDQd570UQ"
      },
      "execution_count": null,
      "outputs": []
    },
    {
      "cell_type": "markdown",
      "source": [
        "Voy a aplicar las estrategias para cada columna, excepto, para la columna Ordinal Outlet_Size que solo imputare los nulos con el valor mas frecuente"
      ],
      "metadata": {
        "id": "Ck2t1IS6Cm9Q"
      }
    },
    {
      "cell_type": "code",
      "source": [
        "categorico = Pipeline(steps=[\n",
        "    (\"imputer\", SimpleImputer(strategy=\"most_frequent\")),\n",
        "     (\"onehot\", OneHotEncoder(handle_unknown=\"ignore\", sparse=False))\n",
        "\n",
        "])\n",
        "\n",
        "numerico = Pipeline(steps=[\n",
        "    (\"imputer\", SimpleImputer(strategy=\"mean\")),\n",
        "     (\"scaler\", StandardScaler())\n",
        "\n",
        "])\n",
        "\n",
        "OutletSize = Pipeline(steps=[\n",
        "    (\"imputer\", SimpleImputer(strategy=\"most_frequent\"))\n",
        "])\n",
        "\n",
        "preprocessor = ColumnTransformer(\n",
        "    transformers=[\n",
        "        ('cat', categorico, columnas_categoricas),\n",
        "        ('num', numerico, columnas_numericas),\n",
        "        ('size', OutletSize, columna_outlet)\n",
        "    ])\n",
        "\n",
        "X_train_procesado = preprocessor.fit_transform(X_train)\n",
        "X_train_procesado"
      ],
      "metadata": {
        "colab": {
          "base_uri": "https://localhost:8080/"
        },
        "id": "DyTx7xT2-VX1",
        "outputId": "c28ef7e7-42ac-4cde-bc67-76a7669f14cb"
      },
      "execution_count": null,
      "outputs": [
        {
          "output_type": "stream",
          "name": "stderr",
          "text": [
            "/usr/local/lib/python3.10/dist-packages/sklearn/preprocessing/_encoders.py:868: FutureWarning: `sparse` was renamed to `sparse_output` in version 1.2 and will be removed in 1.4. `sparse_output` is ignored unless you leave `sparse` to its default value.\n",
            "  warnings.warn(\n"
          ]
        },
        {
          "output_type": "execute_result",
          "data": {
            "text/plain": [
              "array([[ 0.        ,  0.        ,  0.        , ...,  1.82810922,\n",
              "         1.32784893,  2.        ],\n",
              "       [ 0.        ,  0.        ,  0.        , ...,  0.60336888,\n",
              "         1.32784893,  2.        ],\n",
              "       [ 0.        ,  0.        ,  0.        , ...,  0.24454056,\n",
              "         0.13618724,  2.        ],\n",
              "       ...,\n",
              "       [ 0.        ,  0.        ,  0.        , ...,  1.52302674,\n",
              "         0.49368575,  2.        ],\n",
              "       [ 0.        ,  0.        ,  0.        , ..., -0.38377708,\n",
              "         1.0895166 ,  2.        ],\n",
              "       [ 0.        ,  0.        ,  0.        , ..., -0.73836105,\n",
              "        -0.10214509,  1.        ]])"
            ]
          },
          "metadata": {},
          "execution_count": 51
        }
      ]
    },
    {
      "cell_type": "code",
      "source": [
        "columnas_ohe = preprocessor.named_transformers_['cat']['onehot'].get_feature_names_out(columnas_categoricas)\n",
        "\n",
        "nombre_columnas = list(columnas_ohe) + columnas_numericas + columna_outlet\n",
        "\n",
        "X_train_procesado_df = pd.DataFrame(X_train_procesado, columns=nombre_columnas)\n",
        "\n",
        "X_train_procesado_df.head()"
      ],
      "metadata": {
        "colab": {
          "base_uri": "https://localhost:8080/",
          "height": 273
        },
        "id": "0b9PGDcrEejf",
        "outputId": "49173fcd-c67a-4639-df89-9d59fe8b6d25"
      },
      "execution_count": null,
      "outputs": [
        {
          "output_type": "execute_result",
          "data": {
            "text/plain": [
              "   Item_Identifier_DRA12  Item_Identifier_DRA24  Item_Identifier_DRA59  \\\n",
              "0                    0.0                    0.0                    0.0   \n",
              "1                    0.0                    0.0                    0.0   \n",
              "2                    0.0                    0.0                    0.0   \n",
              "3                    0.0                    0.0                    0.0   \n",
              "4                    0.0                    0.0                    0.0   \n",
              "\n",
              "   Item_Identifier_DRB01  Item_Identifier_DRB13  Item_Identifier_DRB24  \\\n",
              "0                    0.0                    0.0                    0.0   \n",
              "1                    0.0                    0.0                    0.0   \n",
              "2                    0.0                    0.0                    0.0   \n",
              "3                    0.0                    0.0                    0.0   \n",
              "4                    0.0                    0.0                    0.0   \n",
              "\n",
              "   Item_Identifier_DRB25  Item_Identifier_DRB48  Item_Identifier_DRC01  \\\n",
              "0                    0.0                    0.0                    0.0   \n",
              "1                    0.0                    0.0                    0.0   \n",
              "2                    0.0                    0.0                    0.0   \n",
              "3                    0.0                    0.0                    0.0   \n",
              "4                    0.0                    0.0                    0.0   \n",
              "\n",
              "   Item_Identifier_DRC12  ...  Outlet_Location_Type_Tier 3  \\\n",
              "0                    0.0  ...                          1.0   \n",
              "1                    0.0  ...                          1.0   \n",
              "2                    0.0  ...                          0.0   \n",
              "3                    0.0  ...                          0.0   \n",
              "4                    0.0  ...                          0.0   \n",
              "\n",
              "   Outlet_Type_Grocery Store  Outlet_Type_Supermarket Type1  \\\n",
              "0                        0.0                            0.0   \n",
              "1                        0.0                            0.0   \n",
              "2                        0.0                            1.0   \n",
              "3                        0.0                            1.0   \n",
              "4                        0.0                            1.0   \n",
              "\n",
              "   Outlet_Type_Supermarket Type2  Outlet_Type_Supermarket Type3  Item_Weight  \\\n",
              "0                            1.0                            0.0     0.817249   \n",
              "1                            1.0                            0.0     0.556340   \n",
              "2                            0.0                            0.0    -0.131512   \n",
              "3                            0.0                            0.0    -1.169219   \n",
              "4                            0.0                            0.0     1.528819   \n",
              "\n",
              "   Item_Visibility  Item_MRP  Outlet_Establishment_Year  Outlet_Size  \n",
              "0        -0.712775  1.828109                   1.327849          2.0  \n",
              "1        -1.291052  0.603369                   1.327849          2.0  \n",
              "2         1.813319  0.244541                   0.136187          2.0  \n",
              "3        -1.004931 -0.952591                   0.732018          1.0  \n",
              "4        -0.965484 -0.336460                   0.493686          2.0  \n",
              "\n",
              "[5 rows x 1593 columns]"
            ],
            "text/html": [
              "\n",
              "  <div id=\"df-64b1b8c9-10ab-4d75-9384-e51e44053786\" class=\"colab-df-container\">\n",
              "    <div>\n",
              "<style scoped>\n",
              "    .dataframe tbody tr th:only-of-type {\n",
              "        vertical-align: middle;\n",
              "    }\n",
              "\n",
              "    .dataframe tbody tr th {\n",
              "        vertical-align: top;\n",
              "    }\n",
              "\n",
              "    .dataframe thead th {\n",
              "        text-align: right;\n",
              "    }\n",
              "</style>\n",
              "<table border=\"1\" class=\"dataframe\">\n",
              "  <thead>\n",
              "    <tr style=\"text-align: right;\">\n",
              "      <th></th>\n",
              "      <th>Item_Identifier_DRA12</th>\n",
              "      <th>Item_Identifier_DRA24</th>\n",
              "      <th>Item_Identifier_DRA59</th>\n",
              "      <th>Item_Identifier_DRB01</th>\n",
              "      <th>Item_Identifier_DRB13</th>\n",
              "      <th>Item_Identifier_DRB24</th>\n",
              "      <th>Item_Identifier_DRB25</th>\n",
              "      <th>Item_Identifier_DRB48</th>\n",
              "      <th>Item_Identifier_DRC01</th>\n",
              "      <th>Item_Identifier_DRC12</th>\n",
              "      <th>...</th>\n",
              "      <th>Outlet_Location_Type_Tier 3</th>\n",
              "      <th>Outlet_Type_Grocery Store</th>\n",
              "      <th>Outlet_Type_Supermarket Type1</th>\n",
              "      <th>Outlet_Type_Supermarket Type2</th>\n",
              "      <th>Outlet_Type_Supermarket Type3</th>\n",
              "      <th>Item_Weight</th>\n",
              "      <th>Item_Visibility</th>\n",
              "      <th>Item_MRP</th>\n",
              "      <th>Outlet_Establishment_Year</th>\n",
              "      <th>Outlet_Size</th>\n",
              "    </tr>\n",
              "  </thead>\n",
              "  <tbody>\n",
              "    <tr>\n",
              "      <th>0</th>\n",
              "      <td>0.0</td>\n",
              "      <td>0.0</td>\n",
              "      <td>0.0</td>\n",
              "      <td>0.0</td>\n",
              "      <td>0.0</td>\n",
              "      <td>0.0</td>\n",
              "      <td>0.0</td>\n",
              "      <td>0.0</td>\n",
              "      <td>0.0</td>\n",
              "      <td>0.0</td>\n",
              "      <td>...</td>\n",
              "      <td>1.0</td>\n",
              "      <td>0.0</td>\n",
              "      <td>0.0</td>\n",
              "      <td>1.0</td>\n",
              "      <td>0.0</td>\n",
              "      <td>0.817249</td>\n",
              "      <td>-0.712775</td>\n",
              "      <td>1.828109</td>\n",
              "      <td>1.327849</td>\n",
              "      <td>2.0</td>\n",
              "    </tr>\n",
              "    <tr>\n",
              "      <th>1</th>\n",
              "      <td>0.0</td>\n",
              "      <td>0.0</td>\n",
              "      <td>0.0</td>\n",
              "      <td>0.0</td>\n",
              "      <td>0.0</td>\n",
              "      <td>0.0</td>\n",
              "      <td>0.0</td>\n",
              "      <td>0.0</td>\n",
              "      <td>0.0</td>\n",
              "      <td>0.0</td>\n",
              "      <td>...</td>\n",
              "      <td>1.0</td>\n",
              "      <td>0.0</td>\n",
              "      <td>0.0</td>\n",
              "      <td>1.0</td>\n",
              "      <td>0.0</td>\n",
              "      <td>0.556340</td>\n",
              "      <td>-1.291052</td>\n",
              "      <td>0.603369</td>\n",
              "      <td>1.327849</td>\n",
              "      <td>2.0</td>\n",
              "    </tr>\n",
              "    <tr>\n",
              "      <th>2</th>\n",
              "      <td>0.0</td>\n",
              "      <td>0.0</td>\n",
              "      <td>0.0</td>\n",
              "      <td>0.0</td>\n",
              "      <td>0.0</td>\n",
              "      <td>0.0</td>\n",
              "      <td>0.0</td>\n",
              "      <td>0.0</td>\n",
              "      <td>0.0</td>\n",
              "      <td>0.0</td>\n",
              "      <td>...</td>\n",
              "      <td>0.0</td>\n",
              "      <td>0.0</td>\n",
              "      <td>1.0</td>\n",
              "      <td>0.0</td>\n",
              "      <td>0.0</td>\n",
              "      <td>-0.131512</td>\n",
              "      <td>1.813319</td>\n",
              "      <td>0.244541</td>\n",
              "      <td>0.136187</td>\n",
              "      <td>2.0</td>\n",
              "    </tr>\n",
              "    <tr>\n",
              "      <th>3</th>\n",
              "      <td>0.0</td>\n",
              "      <td>0.0</td>\n",
              "      <td>0.0</td>\n",
              "      <td>0.0</td>\n",
              "      <td>0.0</td>\n",
              "      <td>0.0</td>\n",
              "      <td>0.0</td>\n",
              "      <td>0.0</td>\n",
              "      <td>0.0</td>\n",
              "      <td>0.0</td>\n",
              "      <td>...</td>\n",
              "      <td>0.0</td>\n",
              "      <td>0.0</td>\n",
              "      <td>1.0</td>\n",
              "      <td>0.0</td>\n",
              "      <td>0.0</td>\n",
              "      <td>-1.169219</td>\n",
              "      <td>-1.004931</td>\n",
              "      <td>-0.952591</td>\n",
              "      <td>0.732018</td>\n",
              "      <td>1.0</td>\n",
              "    </tr>\n",
              "    <tr>\n",
              "      <th>4</th>\n",
              "      <td>0.0</td>\n",
              "      <td>0.0</td>\n",
              "      <td>0.0</td>\n",
              "      <td>0.0</td>\n",
              "      <td>0.0</td>\n",
              "      <td>0.0</td>\n",
              "      <td>0.0</td>\n",
              "      <td>0.0</td>\n",
              "      <td>0.0</td>\n",
              "      <td>0.0</td>\n",
              "      <td>...</td>\n",
              "      <td>0.0</td>\n",
              "      <td>0.0</td>\n",
              "      <td>1.0</td>\n",
              "      <td>0.0</td>\n",
              "      <td>0.0</td>\n",
              "      <td>1.528819</td>\n",
              "      <td>-0.965484</td>\n",
              "      <td>-0.336460</td>\n",
              "      <td>0.493686</td>\n",
              "      <td>2.0</td>\n",
              "    </tr>\n",
              "  </tbody>\n",
              "</table>\n",
              "<p>5 rows × 1593 columns</p>\n",
              "</div>\n",
              "    <div class=\"colab-df-buttons\">\n",
              "\n",
              "  <div class=\"colab-df-container\">\n",
              "    <button class=\"colab-df-convert\" onclick=\"convertToInteractive('df-64b1b8c9-10ab-4d75-9384-e51e44053786')\"\n",
              "            title=\"Convert this dataframe to an interactive table.\"\n",
              "            style=\"display:none;\">\n",
              "\n",
              "  <svg xmlns=\"http://www.w3.org/2000/svg\" height=\"24px\" viewBox=\"0 -960 960 960\">\n",
              "    <path d=\"M120-120v-720h720v720H120Zm60-500h600v-160H180v160Zm220 220h160v-160H400v160Zm0 220h160v-160H400v160ZM180-400h160v-160H180v160Zm440 0h160v-160H620v160ZM180-180h160v-160H180v160Zm440 0h160v-160H620v160Z\"/>\n",
              "  </svg>\n",
              "    </button>\n",
              "\n",
              "  <style>\n",
              "    .colab-df-container {\n",
              "      display:flex;\n",
              "      gap: 12px;\n",
              "    }\n",
              "\n",
              "    .colab-df-convert {\n",
              "      background-color: #E8F0FE;\n",
              "      border: none;\n",
              "      border-radius: 50%;\n",
              "      cursor: pointer;\n",
              "      display: none;\n",
              "      fill: #1967D2;\n",
              "      height: 32px;\n",
              "      padding: 0 0 0 0;\n",
              "      width: 32px;\n",
              "    }\n",
              "\n",
              "    .colab-df-convert:hover {\n",
              "      background-color: #E2EBFA;\n",
              "      box-shadow: 0px 1px 2px rgba(60, 64, 67, 0.3), 0px 1px 3px 1px rgba(60, 64, 67, 0.15);\n",
              "      fill: #174EA6;\n",
              "    }\n",
              "\n",
              "    .colab-df-buttons div {\n",
              "      margin-bottom: 4px;\n",
              "    }\n",
              "\n",
              "    [theme=dark] .colab-df-convert {\n",
              "      background-color: #3B4455;\n",
              "      fill: #D2E3FC;\n",
              "    }\n",
              "\n",
              "    [theme=dark] .colab-df-convert:hover {\n",
              "      background-color: #434B5C;\n",
              "      box-shadow: 0px 1px 3px 1px rgba(0, 0, 0, 0.15);\n",
              "      filter: drop-shadow(0px 1px 2px rgba(0, 0, 0, 0.3));\n",
              "      fill: #FFFFFF;\n",
              "    }\n",
              "  </style>\n",
              "\n",
              "    <script>\n",
              "      const buttonEl =\n",
              "        document.querySelector('#df-64b1b8c9-10ab-4d75-9384-e51e44053786 button.colab-df-convert');\n",
              "      buttonEl.style.display =\n",
              "        google.colab.kernel.accessAllowed ? 'block' : 'none';\n",
              "\n",
              "      async function convertToInteractive(key) {\n",
              "        const element = document.querySelector('#df-64b1b8c9-10ab-4d75-9384-e51e44053786');\n",
              "        const dataTable =\n",
              "          await google.colab.kernel.invokeFunction('convertToInteractive',\n",
              "                                                    [key], {});\n",
              "        if (!dataTable) return;\n",
              "\n",
              "        const docLinkHtml = 'Like what you see? Visit the ' +\n",
              "          '<a target=\"_blank\" href=https://colab.research.google.com/notebooks/data_table.ipynb>data table notebook</a>'\n",
              "          + ' to learn more about interactive tables.';\n",
              "        element.innerHTML = '';\n",
              "        dataTable['output_type'] = 'display_data';\n",
              "        await google.colab.output.renderOutput(dataTable, element);\n",
              "        const docLink = document.createElement('div');\n",
              "        docLink.innerHTML = docLinkHtml;\n",
              "        element.appendChild(docLink);\n",
              "      }\n",
              "    </script>\n",
              "  </div>\n",
              "\n",
              "\n",
              "<div id=\"df-c8bc3933-611b-45a1-881b-937a809613e4\">\n",
              "  <button class=\"colab-df-quickchart\" onclick=\"quickchart('df-c8bc3933-611b-45a1-881b-937a809613e4')\"\n",
              "            title=\"Suggest charts\"\n",
              "            style=\"display:none;\">\n",
              "\n",
              "<svg xmlns=\"http://www.w3.org/2000/svg\" height=\"24px\"viewBox=\"0 0 24 24\"\n",
              "     width=\"24px\">\n",
              "    <g>\n",
              "        <path d=\"M19 3H5c-1.1 0-2 .9-2 2v14c0 1.1.9 2 2 2h14c1.1 0 2-.9 2-2V5c0-1.1-.9-2-2-2zM9 17H7v-7h2v7zm4 0h-2V7h2v10zm4 0h-2v-4h2v4z\"/>\n",
              "    </g>\n",
              "</svg>\n",
              "  </button>\n",
              "\n",
              "<style>\n",
              "  .colab-df-quickchart {\n",
              "      --bg-color: #E8F0FE;\n",
              "      --fill-color: #1967D2;\n",
              "      --hover-bg-color: #E2EBFA;\n",
              "      --hover-fill-color: #174EA6;\n",
              "      --disabled-fill-color: #AAA;\n",
              "      --disabled-bg-color: #DDD;\n",
              "  }\n",
              "\n",
              "  [theme=dark] .colab-df-quickchart {\n",
              "      --bg-color: #3B4455;\n",
              "      --fill-color: #D2E3FC;\n",
              "      --hover-bg-color: #434B5C;\n",
              "      --hover-fill-color: #FFFFFF;\n",
              "      --disabled-bg-color: #3B4455;\n",
              "      --disabled-fill-color: #666;\n",
              "  }\n",
              "\n",
              "  .colab-df-quickchart {\n",
              "    background-color: var(--bg-color);\n",
              "    border: none;\n",
              "    border-radius: 50%;\n",
              "    cursor: pointer;\n",
              "    display: none;\n",
              "    fill: var(--fill-color);\n",
              "    height: 32px;\n",
              "    padding: 0;\n",
              "    width: 32px;\n",
              "  }\n",
              "\n",
              "  .colab-df-quickchart:hover {\n",
              "    background-color: var(--hover-bg-color);\n",
              "    box-shadow: 0 1px 2px rgba(60, 64, 67, 0.3), 0 1px 3px 1px rgba(60, 64, 67, 0.15);\n",
              "    fill: var(--button-hover-fill-color);\n",
              "  }\n",
              "\n",
              "  .colab-df-quickchart-complete:disabled,\n",
              "  .colab-df-quickchart-complete:disabled:hover {\n",
              "    background-color: var(--disabled-bg-color);\n",
              "    fill: var(--disabled-fill-color);\n",
              "    box-shadow: none;\n",
              "  }\n",
              "\n",
              "  .colab-df-spinner {\n",
              "    border: 2px solid var(--fill-color);\n",
              "    border-color: transparent;\n",
              "    border-bottom-color: var(--fill-color);\n",
              "    animation:\n",
              "      spin 1s steps(1) infinite;\n",
              "  }\n",
              "\n",
              "  @keyframes spin {\n",
              "    0% {\n",
              "      border-color: transparent;\n",
              "      border-bottom-color: var(--fill-color);\n",
              "      border-left-color: var(--fill-color);\n",
              "    }\n",
              "    20% {\n",
              "      border-color: transparent;\n",
              "      border-left-color: var(--fill-color);\n",
              "      border-top-color: var(--fill-color);\n",
              "    }\n",
              "    30% {\n",
              "      border-color: transparent;\n",
              "      border-left-color: var(--fill-color);\n",
              "      border-top-color: var(--fill-color);\n",
              "      border-right-color: var(--fill-color);\n",
              "    }\n",
              "    40% {\n",
              "      border-color: transparent;\n",
              "      border-right-color: var(--fill-color);\n",
              "      border-top-color: var(--fill-color);\n",
              "    }\n",
              "    60% {\n",
              "      border-color: transparent;\n",
              "      border-right-color: var(--fill-color);\n",
              "    }\n",
              "    80% {\n",
              "      border-color: transparent;\n",
              "      border-right-color: var(--fill-color);\n",
              "      border-bottom-color: var(--fill-color);\n",
              "    }\n",
              "    90% {\n",
              "      border-color: transparent;\n",
              "      border-bottom-color: var(--fill-color);\n",
              "    }\n",
              "  }\n",
              "</style>\n",
              "\n",
              "  <script>\n",
              "    async function quickchart(key) {\n",
              "      const quickchartButtonEl =\n",
              "        document.querySelector('#' + key + ' button');\n",
              "      quickchartButtonEl.disabled = true;  // To prevent multiple clicks.\n",
              "      quickchartButtonEl.classList.add('colab-df-spinner');\n",
              "      try {\n",
              "        const charts = await google.colab.kernel.invokeFunction(\n",
              "            'suggestCharts', [key], {});\n",
              "      } catch (error) {\n",
              "        console.error('Error during call to suggestCharts:', error);\n",
              "      }\n",
              "      quickchartButtonEl.classList.remove('colab-df-spinner');\n",
              "      quickchartButtonEl.classList.add('colab-df-quickchart-complete');\n",
              "    }\n",
              "    (() => {\n",
              "      let quickchartButtonEl =\n",
              "        document.querySelector('#df-c8bc3933-611b-45a1-881b-937a809613e4 button');\n",
              "      quickchartButtonEl.style.display =\n",
              "        google.colab.kernel.accessAllowed ? 'block' : 'none';\n",
              "    })();\n",
              "  </script>\n",
              "</div>\n",
              "\n",
              "    </div>\n",
              "  </div>\n"
            ],
            "application/vnd.google.colaboratory.intrinsic+json": {
              "type": "dataframe",
              "variable_name": "X_train_procesado_df"
            }
          },
          "metadata": {},
          "execution_count": 57
        }
      ]
    },
    {
      "cell_type": "code",
      "source": [
        "print(nombre_columnas)\n",
        "X_train_procesado.shape\n",
        "type(nombre_columnas)\n",
        "len(nombre_columnas)\n"
      ],
      "metadata": {
        "colab": {
          "base_uri": "https://localhost:8080/"
        },
        "id": "B1dh4lrlhpBt",
        "outputId": "a9bd14f3-907f-4e32-894b-32a7ffe13716"
      },
      "execution_count": null,
      "outputs": [
        {
          "output_type": "stream",
          "name": "stdout",
          "text": [
            "['Item_Identifier_DRA12', 'Item_Identifier_DRA24', 'Item_Identifier_DRA59', 'Item_Identifier_DRB01', 'Item_Identifier_DRB13', 'Item_Identifier_DRB24', 'Item_Identifier_DRB25', 'Item_Identifier_DRB48', 'Item_Identifier_DRC01', 'Item_Identifier_DRC12', 'Item_Identifier_DRC13', 'Item_Identifier_DRC25', 'Item_Identifier_DRC27', 'Item_Identifier_DRC36', 'Item_Identifier_DRC49', 'Item_Identifier_DRD01', 'Item_Identifier_DRD12', 'Item_Identifier_DRD13', 'Item_Identifier_DRD15', 'Item_Identifier_DRD24', 'Item_Identifier_DRD25', 'Item_Identifier_DRD27', 'Item_Identifier_DRD37', 'Item_Identifier_DRD49', 'Item_Identifier_DRD60', 'Item_Identifier_DRE01', 'Item_Identifier_DRE03', 'Item_Identifier_DRE12', 'Item_Identifier_DRE13', 'Item_Identifier_DRE15', 'Item_Identifier_DRE25', 'Item_Identifier_DRE27', 'Item_Identifier_DRE37', 'Item_Identifier_DRE48', 'Item_Identifier_DRE49', 'Item_Identifier_DRE60', 'Item_Identifier_DRF01', 'Item_Identifier_DRF03', 'Item_Identifier_DRF13', 'Item_Identifier_DRF15', 'Item_Identifier_DRF23', 'Item_Identifier_DRF25', 'Item_Identifier_DRF27', 'Item_Identifier_DRF36', 'Item_Identifier_DRF37', 'Item_Identifier_DRF48', 'Item_Identifier_DRF49', 'Item_Identifier_DRF51', 'Item_Identifier_DRF60', 'Item_Identifier_DRG01', 'Item_Identifier_DRG03', 'Item_Identifier_DRG11', 'Item_Identifier_DRG13', 'Item_Identifier_DRG15', 'Item_Identifier_DRG23', 'Item_Identifier_DRG25', 'Item_Identifier_DRG27', 'Item_Identifier_DRG36', 'Item_Identifier_DRG37', 'Item_Identifier_DRG39', 'Item_Identifier_DRG48', 'Item_Identifier_DRG49', 'Item_Identifier_DRG51', 'Item_Identifier_DRH01', 'Item_Identifier_DRH03', 'Item_Identifier_DRH11', 'Item_Identifier_DRH13', 'Item_Identifier_DRH15', 'Item_Identifier_DRH23', 'Item_Identifier_DRH25', 'Item_Identifier_DRH36', 'Item_Identifier_DRH37', 'Item_Identifier_DRH39', 'Item_Identifier_DRH49', 'Item_Identifier_DRH51', 'Item_Identifier_DRH59', 'Item_Identifier_DRI01', 'Item_Identifier_DRI03', 'Item_Identifier_DRI11', 'Item_Identifier_DRI13', 'Item_Identifier_DRI23', 'Item_Identifier_DRI25', 'Item_Identifier_DRI37', 'Item_Identifier_DRI39', 'Item_Identifier_DRI47', 'Item_Identifier_DRI49', 'Item_Identifier_DRI51', 'Item_Identifier_DRI59', 'Item_Identifier_DRJ01', 'Item_Identifier_DRJ11', 'Item_Identifier_DRJ13', 'Item_Identifier_DRJ23', 'Item_Identifier_DRJ24', 'Item_Identifier_DRJ25', 'Item_Identifier_DRJ35', 'Item_Identifier_DRJ37', 'Item_Identifier_DRJ39', 'Item_Identifier_DRJ47', 'Item_Identifier_DRJ49', 'Item_Identifier_DRJ51', 'Item_Identifier_DRJ59', 'Item_Identifier_DRK01', 'Item_Identifier_DRK11', 'Item_Identifier_DRK12', 'Item_Identifier_DRK13', 'Item_Identifier_DRK23', 'Item_Identifier_DRK35', 'Item_Identifier_DRK37', 'Item_Identifier_DRK39', 'Item_Identifier_DRK47', 'Item_Identifier_DRK49', 'Item_Identifier_DRK59', 'Item_Identifier_DRL01', 'Item_Identifier_DRL11', 'Item_Identifier_DRL23', 'Item_Identifier_DRL35', 'Item_Identifier_DRL37', 'Item_Identifier_DRL47', 'Item_Identifier_DRL49', 'Item_Identifier_DRL59', 'Item_Identifier_DRL60', 'Item_Identifier_DRM11', 'Item_Identifier_DRM23', 'Item_Identifier_DRM35', 'Item_Identifier_DRM37', 'Item_Identifier_DRM47', 'Item_Identifier_DRM48', 'Item_Identifier_DRM49', 'Item_Identifier_DRM59', 'Item_Identifier_DRN11', 'Item_Identifier_DRN35', 'Item_Identifier_DRN36', 'Item_Identifier_DRN37', 'Item_Identifier_DRN47', 'Item_Identifier_DRN59', 'Item_Identifier_DRO35', 'Item_Identifier_DRO47', 'Item_Identifier_DRO59', 'Item_Identifier_DRP35', 'Item_Identifier_DRP47', 'Item_Identifier_DRQ35', 'Item_Identifier_DRY23', 'Item_Identifier_DRZ11', 'Item_Identifier_DRZ24', 'Item_Identifier_FDA01', 'Item_Identifier_FDA02', 'Item_Identifier_FDA03', 'Item_Identifier_FDA04', 'Item_Identifier_FDA07', 'Item_Identifier_FDA08', 'Item_Identifier_FDA09', 'Item_Identifier_FDA10', 'Item_Identifier_FDA11', 'Item_Identifier_FDA13', 'Item_Identifier_FDA14', 'Item_Identifier_FDA15', 'Item_Identifier_FDA16', 'Item_Identifier_FDA19', 'Item_Identifier_FDA20', 'Item_Identifier_FDA21', 'Item_Identifier_FDA22', 'Item_Identifier_FDA23', 'Item_Identifier_FDA25', 'Item_Identifier_FDA26', 'Item_Identifier_FDA27', 'Item_Identifier_FDA28', 'Item_Identifier_FDA31', 'Item_Identifier_FDA32', 'Item_Identifier_FDA33', 'Item_Identifier_FDA34', 'Item_Identifier_FDA35', 'Item_Identifier_FDA36', 'Item_Identifier_FDA37', 'Item_Identifier_FDA38', 'Item_Identifier_FDA39', 'Item_Identifier_FDA40', 'Item_Identifier_FDA43', 'Item_Identifier_FDA44', 'Item_Identifier_FDA45', 'Item_Identifier_FDA46', 'Item_Identifier_FDA47', 'Item_Identifier_FDA48', 'Item_Identifier_FDA49', 'Item_Identifier_FDA50', 'Item_Identifier_FDA51', 'Item_Identifier_FDA52', 'Item_Identifier_FDA55', 'Item_Identifier_FDA56', 'Item_Identifier_FDA57', 'Item_Identifier_FDA58', 'Item_Identifier_FDB02', 'Item_Identifier_FDB03', 'Item_Identifier_FDB04', 'Item_Identifier_FDB05', 'Item_Identifier_FDB08', 'Item_Identifier_FDB09', 'Item_Identifier_FDB10', 'Item_Identifier_FDB11', 'Item_Identifier_FDB12', 'Item_Identifier_FDB14', 'Item_Identifier_FDB15', 'Item_Identifier_FDB16', 'Item_Identifier_FDB17', 'Item_Identifier_FDB20', 'Item_Identifier_FDB21', 'Item_Identifier_FDB22', 'Item_Identifier_FDB23', 'Item_Identifier_FDB26', 'Item_Identifier_FDB27', 'Item_Identifier_FDB28', 'Item_Identifier_FDB29', 'Item_Identifier_FDB32', 'Item_Identifier_FDB33', 'Item_Identifier_FDB34', 'Item_Identifier_FDB35', 'Item_Identifier_FDB36', 'Item_Identifier_FDB37', 'Item_Identifier_FDB38', 'Item_Identifier_FDB39', 'Item_Identifier_FDB40', 'Item_Identifier_FDB41', 'Item_Identifier_FDB44', 'Item_Identifier_FDB45', 'Item_Identifier_FDB46', 'Item_Identifier_FDB47', 'Item_Identifier_FDB49', 'Item_Identifier_FDB50', 'Item_Identifier_FDB51', 'Item_Identifier_FDB52', 'Item_Identifier_FDB53', 'Item_Identifier_FDB56', 'Item_Identifier_FDB57', 'Item_Identifier_FDB58', 'Item_Identifier_FDB59', 'Item_Identifier_FDB60', 'Item_Identifier_FDC02', 'Item_Identifier_FDC03', 'Item_Identifier_FDC04', 'Item_Identifier_FDC05', 'Item_Identifier_FDC08', 'Item_Identifier_FDC09', 'Item_Identifier_FDC10', 'Item_Identifier_FDC11', 'Item_Identifier_FDC14', 'Item_Identifier_FDC15', 'Item_Identifier_FDC16', 'Item_Identifier_FDC17', 'Item_Identifier_FDC20', 'Item_Identifier_FDC21', 'Item_Identifier_FDC22', 'Item_Identifier_FDC26', 'Item_Identifier_FDC29', 'Item_Identifier_FDC32', 'Item_Identifier_FDC33', 'Item_Identifier_FDC34', 'Item_Identifier_FDC35', 'Item_Identifier_FDC37', 'Item_Identifier_FDC38', 'Item_Identifier_FDC39', 'Item_Identifier_FDC40', 'Item_Identifier_FDC41', 'Item_Identifier_FDC44', 'Item_Identifier_FDC45', 'Item_Identifier_FDC46', 'Item_Identifier_FDC47', 'Item_Identifier_FDC48', 'Item_Identifier_FDC50', 'Item_Identifier_FDC51', 'Item_Identifier_FDC52', 'Item_Identifier_FDC53', 'Item_Identifier_FDC56', 'Item_Identifier_FDC57', 'Item_Identifier_FDC58', 'Item_Identifier_FDC59', 'Item_Identifier_FDC60', 'Item_Identifier_FDD02', 'Item_Identifier_FDD03', 'Item_Identifier_FDD04', 'Item_Identifier_FDD05', 'Item_Identifier_FDD08', 'Item_Identifier_FDD09', 'Item_Identifier_FDD10', 'Item_Identifier_FDD11', 'Item_Identifier_FDD14', 'Item_Identifier_FDD16', 'Item_Identifier_FDD17', 'Item_Identifier_FDD20', 'Item_Identifier_FDD21', 'Item_Identifier_FDD22', 'Item_Identifier_FDD23', 'Item_Identifier_FDD26', 'Item_Identifier_FDD28', 'Item_Identifier_FDD29', 'Item_Identifier_FDD32', 'Item_Identifier_FDD33', 'Item_Identifier_FDD34', 'Item_Identifier_FDD35', 'Item_Identifier_FDD36', 'Item_Identifier_FDD38', 'Item_Identifier_FDD39', 'Item_Identifier_FDD40', 'Item_Identifier_FDD41', 'Item_Identifier_FDD44', 'Item_Identifier_FDD45', 'Item_Identifier_FDD46', 'Item_Identifier_FDD47', 'Item_Identifier_FDD48', 'Item_Identifier_FDD50', 'Item_Identifier_FDD51', 'Item_Identifier_FDD52', 'Item_Identifier_FDD53', 'Item_Identifier_FDD56', 'Item_Identifier_FDD57', 'Item_Identifier_FDD58', 'Item_Identifier_FDD59', 'Item_Identifier_FDE02', 'Item_Identifier_FDE04', 'Item_Identifier_FDE05', 'Item_Identifier_FDE08', 'Item_Identifier_FDE09', 'Item_Identifier_FDE10', 'Item_Identifier_FDE11', 'Item_Identifier_FDE14', 'Item_Identifier_FDE16', 'Item_Identifier_FDE17', 'Item_Identifier_FDE20', 'Item_Identifier_FDE21', 'Item_Identifier_FDE22', 'Item_Identifier_FDE23', 'Item_Identifier_FDE24', 'Item_Identifier_FDE26', 'Item_Identifier_FDE28', 'Item_Identifier_FDE29', 'Item_Identifier_FDE32', 'Item_Identifier_FDE33', 'Item_Identifier_FDE34', 'Item_Identifier_FDE35', 'Item_Identifier_FDE36', 'Item_Identifier_FDE38', 'Item_Identifier_FDE39', 'Item_Identifier_FDE40', 'Item_Identifier_FDE41', 'Item_Identifier_FDE44', 'Item_Identifier_FDE45', 'Item_Identifier_FDE46', 'Item_Identifier_FDE47', 'Item_Identifier_FDE50', 'Item_Identifier_FDE51', 'Item_Identifier_FDE52', 'Item_Identifier_FDE53', 'Item_Identifier_FDE56', 'Item_Identifier_FDE57', 'Item_Identifier_FDE58', 'Item_Identifier_FDE59', 'Item_Identifier_FDF02', 'Item_Identifier_FDF04', 'Item_Identifier_FDF05', 'Item_Identifier_FDF08', 'Item_Identifier_FDF09', 'Item_Identifier_FDF10', 'Item_Identifier_FDF11', 'Item_Identifier_FDF12', 'Item_Identifier_FDF14', 'Item_Identifier_FDF16', 'Item_Identifier_FDF17', 'Item_Identifier_FDF20', 'Item_Identifier_FDF21', 'Item_Identifier_FDF22', 'Item_Identifier_FDF24', 'Item_Identifier_FDF26', 'Item_Identifier_FDF28', 'Item_Identifier_FDF29', 'Item_Identifier_FDF32', 'Item_Identifier_FDF33', 'Item_Identifier_FDF34', 'Item_Identifier_FDF35', 'Item_Identifier_FDF38', 'Item_Identifier_FDF39', 'Item_Identifier_FDF40', 'Item_Identifier_FDF41', 'Item_Identifier_FDF44', 'Item_Identifier_FDF45', 'Item_Identifier_FDF46', 'Item_Identifier_FDF47', 'Item_Identifier_FDF50', 'Item_Identifier_FDF52', 'Item_Identifier_FDF53', 'Item_Identifier_FDF56', 'Item_Identifier_FDF57', 'Item_Identifier_FDF58', 'Item_Identifier_FDF59', 'Item_Identifier_FDG02', 'Item_Identifier_FDG04', 'Item_Identifier_FDG05', 'Item_Identifier_FDG08', 'Item_Identifier_FDG09', 'Item_Identifier_FDG10', 'Item_Identifier_FDG12', 'Item_Identifier_FDG14', 'Item_Identifier_FDG16', 'Item_Identifier_FDG17', 'Item_Identifier_FDG20', 'Item_Identifier_FDG21', 'Item_Identifier_FDG22', 'Item_Identifier_FDG24', 'Item_Identifier_FDG26', 'Item_Identifier_FDG28', 'Item_Identifier_FDG29', 'Item_Identifier_FDG31', 'Item_Identifier_FDG32', 'Item_Identifier_FDG33', 'Item_Identifier_FDG34', 'Item_Identifier_FDG35', 'Item_Identifier_FDG38', 'Item_Identifier_FDG40', 'Item_Identifier_FDG41', 'Item_Identifier_FDG44', 'Item_Identifier_FDG45', 'Item_Identifier_FDG46', 'Item_Identifier_FDG47', 'Item_Identifier_FDG50', 'Item_Identifier_FDG52', 'Item_Identifier_FDG53', 'Item_Identifier_FDG56', 'Item_Identifier_FDG57', 'Item_Identifier_FDG58', 'Item_Identifier_FDG59', 'Item_Identifier_FDG60', 'Item_Identifier_FDH02', 'Item_Identifier_FDH04', 'Item_Identifier_FDH05', 'Item_Identifier_FDH08', 'Item_Identifier_FDH09', 'Item_Identifier_FDH10', 'Item_Identifier_FDH12', 'Item_Identifier_FDH14', 'Item_Identifier_FDH16', 'Item_Identifier_FDH17', 'Item_Identifier_FDH19', 'Item_Identifier_FDH20', 'Item_Identifier_FDH21', 'Item_Identifier_FDH22', 'Item_Identifier_FDH24', 'Item_Identifier_FDH26', 'Item_Identifier_FDH27', 'Item_Identifier_FDH28', 'Item_Identifier_FDH31', 'Item_Identifier_FDH32', 'Item_Identifier_FDH33', 'Item_Identifier_FDH34', 'Item_Identifier_FDH35', 'Item_Identifier_FDH38', 'Item_Identifier_FDH40', 'Item_Identifier_FDH41', 'Item_Identifier_FDH44', 'Item_Identifier_FDH45', 'Item_Identifier_FDH46', 'Item_Identifier_FDH47', 'Item_Identifier_FDH48', 'Item_Identifier_FDH50', 'Item_Identifier_FDH52', 'Item_Identifier_FDH53', 'Item_Identifier_FDH56', 'Item_Identifier_FDH57', 'Item_Identifier_FDH58', 'Item_Identifier_FDH60', 'Item_Identifier_FDI02', 'Item_Identifier_FDI04', 'Item_Identifier_FDI05', 'Item_Identifier_FDI07', 'Item_Identifier_FDI08', 'Item_Identifier_FDI09', 'Item_Identifier_FDI10', 'Item_Identifier_FDI12', 'Item_Identifier_FDI14', 'Item_Identifier_FDI15', 'Item_Identifier_FDI16', 'Item_Identifier_FDI19', 'Item_Identifier_FDI20', 'Item_Identifier_FDI21', 'Item_Identifier_FDI22', 'Item_Identifier_FDI24', 'Item_Identifier_FDI26', 'Item_Identifier_FDI27', 'Item_Identifier_FDI28', 'Item_Identifier_FDI32', 'Item_Identifier_FDI33', 'Item_Identifier_FDI34', 'Item_Identifier_FDI35', 'Item_Identifier_FDI36', 'Item_Identifier_FDI38', 'Item_Identifier_FDI40', 'Item_Identifier_FDI41', 'Item_Identifier_FDI44', 'Item_Identifier_FDI45', 'Item_Identifier_FDI46', 'Item_Identifier_FDI48', 'Item_Identifier_FDI50', 'Item_Identifier_FDI52', 'Item_Identifier_FDI53', 'Item_Identifier_FDI56', 'Item_Identifier_FDI57', 'Item_Identifier_FDI58', 'Item_Identifier_FDI60', 'Item_Identifier_FDJ02', 'Item_Identifier_FDJ03', 'Item_Identifier_FDJ04', 'Item_Identifier_FDJ07', 'Item_Identifier_FDJ08', 'Item_Identifier_FDJ09', 'Item_Identifier_FDJ10', 'Item_Identifier_FDJ12', 'Item_Identifier_FDJ14', 'Item_Identifier_FDJ15', 'Item_Identifier_FDJ16', 'Item_Identifier_FDJ20', 'Item_Identifier_FDJ21', 'Item_Identifier_FDJ22', 'Item_Identifier_FDJ26', 'Item_Identifier_FDJ27', 'Item_Identifier_FDJ28', 'Item_Identifier_FDJ32', 'Item_Identifier_FDJ33', 'Item_Identifier_FDJ34', 'Item_Identifier_FDJ36', 'Item_Identifier_FDJ38', 'Item_Identifier_FDJ40', 'Item_Identifier_FDJ41', 'Item_Identifier_FDJ44', 'Item_Identifier_FDJ45', 'Item_Identifier_FDJ46', 'Item_Identifier_FDJ48', 'Item_Identifier_FDJ50', 'Item_Identifier_FDJ52', 'Item_Identifier_FDJ53', 'Item_Identifier_FDJ55', 'Item_Identifier_FDJ56', 'Item_Identifier_FDJ57', 'Item_Identifier_FDJ58', 'Item_Identifier_FDJ60', 'Item_Identifier_FDK02', 'Item_Identifier_FDK03', 'Item_Identifier_FDK04', 'Item_Identifier_FDK08', 'Item_Identifier_FDK09', 'Item_Identifier_FDK10', 'Item_Identifier_FDK14', 'Item_Identifier_FDK15', 'Item_Identifier_FDK16', 'Item_Identifier_FDK20', 'Item_Identifier_FDK21', 'Item_Identifier_FDK22', 'Item_Identifier_FDK24', 'Item_Identifier_FDK25', 'Item_Identifier_FDK26', 'Item_Identifier_FDK27', 'Item_Identifier_FDK28', 'Item_Identifier_FDK32', 'Item_Identifier_FDK33', 'Item_Identifier_FDK34', 'Item_Identifier_FDK36', 'Item_Identifier_FDK38', 'Item_Identifier_FDK40', 'Item_Identifier_FDK41', 'Item_Identifier_FDK43', 'Item_Identifier_FDK44', 'Item_Identifier_FDK45', 'Item_Identifier_FDK46', 'Item_Identifier_FDK48', 'Item_Identifier_FDK50', 'Item_Identifier_FDK51', 'Item_Identifier_FDK52', 'Item_Identifier_FDK55', 'Item_Identifier_FDK56', 'Item_Identifier_FDK58', 'Item_Identifier_FDK60', 'Item_Identifier_FDL02', 'Item_Identifier_FDL03', 'Item_Identifier_FDL04', 'Item_Identifier_FDL08', 'Item_Identifier_FDL09', 'Item_Identifier_FDL10', 'Item_Identifier_FDL12', 'Item_Identifier_FDL13', 'Item_Identifier_FDL14', 'Item_Identifier_FDL15', 'Item_Identifier_FDL16', 'Item_Identifier_FDL20', 'Item_Identifier_FDL21', 'Item_Identifier_FDL22', 'Item_Identifier_FDL24', 'Item_Identifier_FDL25', 'Item_Identifier_FDL26', 'Item_Identifier_FDL27', 'Item_Identifier_FDL28', 'Item_Identifier_FDL32', 'Item_Identifier_FDL33', 'Item_Identifier_FDL34', 'Item_Identifier_FDL36', 'Item_Identifier_FDL38', 'Item_Identifier_FDL39', 'Item_Identifier_FDL40', 'Item_Identifier_FDL43', 'Item_Identifier_FDL44', 'Item_Identifier_FDL45', 'Item_Identifier_FDL46', 'Item_Identifier_FDL48', 'Item_Identifier_FDL50', 'Item_Identifier_FDL51', 'Item_Identifier_FDL52', 'Item_Identifier_FDL56', 'Item_Identifier_FDL57', 'Item_Identifier_FDL58', 'Item_Identifier_FDM01', 'Item_Identifier_FDM02', 'Item_Identifier_FDM03', 'Item_Identifier_FDM04', 'Item_Identifier_FDM08', 'Item_Identifier_FDM09', 'Item_Identifier_FDM10', 'Item_Identifier_FDM12', 'Item_Identifier_FDM13', 'Item_Identifier_FDM14', 'Item_Identifier_FDM15', 'Item_Identifier_FDM20', 'Item_Identifier_FDM21', 'Item_Identifier_FDM22', 'Item_Identifier_FDM24', 'Item_Identifier_FDM25', 'Item_Identifier_FDM27', 'Item_Identifier_FDM28', 'Item_Identifier_FDM32', 'Item_Identifier_FDM33', 'Item_Identifier_FDM34', 'Item_Identifier_FDM36', 'Item_Identifier_FDM38', 'Item_Identifier_FDM39', 'Item_Identifier_FDM40', 'Item_Identifier_FDM44', 'Item_Identifier_FDM45', 'Item_Identifier_FDM46', 'Item_Identifier_FDM50', 'Item_Identifier_FDM51', 'Item_Identifier_FDM52', 'Item_Identifier_FDM56', 'Item_Identifier_FDM57', 'Item_Identifier_FDM58', 'Item_Identifier_FDM60', 'Item_Identifier_FDN01', 'Item_Identifier_FDN02', 'Item_Identifier_FDN03', 'Item_Identifier_FDN04', 'Item_Identifier_FDN08', 'Item_Identifier_FDN09', 'Item_Identifier_FDN10', 'Item_Identifier_FDN12', 'Item_Identifier_FDN13', 'Item_Identifier_FDN15', 'Item_Identifier_FDN16', 'Item_Identifier_FDN20', 'Item_Identifier_FDN21', 'Item_Identifier_FDN22', 'Item_Identifier_FDN23', 'Item_Identifier_FDN24', 'Item_Identifier_FDN25', 'Item_Identifier_FDN27', 'Item_Identifier_FDN28', 'Item_Identifier_FDN31', 'Item_Identifier_FDN32', 'Item_Identifier_FDN33', 'Item_Identifier_FDN34', 'Item_Identifier_FDN38', 'Item_Identifier_FDN39', 'Item_Identifier_FDN40', 'Item_Identifier_FDN44', 'Item_Identifier_FDN45', 'Item_Identifier_FDN46', 'Item_Identifier_FDN48', 'Item_Identifier_FDN49', 'Item_Identifier_FDN50', 'Item_Identifier_FDN51', 'Item_Identifier_FDN56', 'Item_Identifier_FDN57', 'Item_Identifier_FDN58', 'Item_Identifier_FDN60', 'Item_Identifier_FDO01', 'Item_Identifier_FDO03', 'Item_Identifier_FDO04', 'Item_Identifier_FDO08', 'Item_Identifier_FDO09', 'Item_Identifier_FDO10', 'Item_Identifier_FDO11', 'Item_Identifier_FDO12', 'Item_Identifier_FDO13', 'Item_Identifier_FDO15', 'Item_Identifier_FDO16', 'Item_Identifier_FDO19', 'Item_Identifier_FDO20', 'Item_Identifier_FDO21', 'Item_Identifier_FDO22', 'Item_Identifier_FDO23', 'Item_Identifier_FDO24', 'Item_Identifier_FDO25', 'Item_Identifier_FDO27', 'Item_Identifier_FDO28', 'Item_Identifier_FDO31', 'Item_Identifier_FDO32', 'Item_Identifier_FDO33', 'Item_Identifier_FDO34', 'Item_Identifier_FDO36', 'Item_Identifier_FDO37', 'Item_Identifier_FDO38', 'Item_Identifier_FDO39', 'Item_Identifier_FDO40', 'Item_Identifier_FDO44', 'Item_Identifier_FDO45', 'Item_Identifier_FDO46', 'Item_Identifier_FDO48', 'Item_Identifier_FDO49', 'Item_Identifier_FDO50', 'Item_Identifier_FDO51', 'Item_Identifier_FDO52', 'Item_Identifier_FDO56', 'Item_Identifier_FDO57', 'Item_Identifier_FDO58', 'Item_Identifier_FDO60', 'Item_Identifier_FDP01', 'Item_Identifier_FDP03', 'Item_Identifier_FDP04', 'Item_Identifier_FDP07', 'Item_Identifier_FDP08', 'Item_Identifier_FDP09', 'Item_Identifier_FDP10', 'Item_Identifier_FDP11', 'Item_Identifier_FDP12', 'Item_Identifier_FDP13', 'Item_Identifier_FDP15', 'Item_Identifier_FDP16', 'Item_Identifier_FDP19', 'Item_Identifier_FDP20', 'Item_Identifier_FDP21', 'Item_Identifier_FDP22', 'Item_Identifier_FDP23', 'Item_Identifier_FDP24', 'Item_Identifier_FDP25', 'Item_Identifier_FDP26', 'Item_Identifier_FDP27', 'Item_Identifier_FDP28', 'Item_Identifier_FDP31', 'Item_Identifier_FDP32', 'Item_Identifier_FDP33', 'Item_Identifier_FDP34', 'Item_Identifier_FDP36', 'Item_Identifier_FDP37', 'Item_Identifier_FDP38', 'Item_Identifier_FDP39', 'Item_Identifier_FDP40', 'Item_Identifier_FDP44', 'Item_Identifier_FDP45', 'Item_Identifier_FDP46', 'Item_Identifier_FDP48', 'Item_Identifier_FDP49', 'Item_Identifier_FDP51', 'Item_Identifier_FDP52', 'Item_Identifier_FDP56', 'Item_Identifier_FDP57', 'Item_Identifier_FDP58', 'Item_Identifier_FDP59', 'Item_Identifier_FDP60', 'Item_Identifier_FDQ01', 'Item_Identifier_FDQ03', 'Item_Identifier_FDQ04', 'Item_Identifier_FDQ07', 'Item_Identifier_FDQ08', 'Item_Identifier_FDQ09', 'Item_Identifier_FDQ10', 'Item_Identifier_FDQ11', 'Item_Identifier_FDQ12', 'Item_Identifier_FDQ13', 'Item_Identifier_FDQ14', 'Item_Identifier_FDQ15', 'Item_Identifier_FDQ16', 'Item_Identifier_FDQ19', 'Item_Identifier_FDQ20', 'Item_Identifier_FDQ21', 'Item_Identifier_FDQ22', 'Item_Identifier_FDQ23', 'Item_Identifier_FDQ24', 'Item_Identifier_FDQ25', 'Item_Identifier_FDQ26', 'Item_Identifier_FDQ27', 'Item_Identifier_FDQ28', 'Item_Identifier_FDQ31', 'Item_Identifier_FDQ32', 'Item_Identifier_FDQ33', 'Item_Identifier_FDQ34', 'Item_Identifier_FDQ36', 'Item_Identifier_FDQ37', 'Item_Identifier_FDQ39', 'Item_Identifier_FDQ40', 'Item_Identifier_FDQ44', 'Item_Identifier_FDQ45', 'Item_Identifier_FDQ46', 'Item_Identifier_FDQ47', 'Item_Identifier_FDQ48', 'Item_Identifier_FDQ49', 'Item_Identifier_FDQ51', 'Item_Identifier_FDQ52', 'Item_Identifier_FDQ55', 'Item_Identifier_FDQ56', 'Item_Identifier_FDQ57', 'Item_Identifier_FDQ58', 'Item_Identifier_FDQ59', 'Item_Identifier_FDQ60', 'Item_Identifier_FDR01', 'Item_Identifier_FDR02', 'Item_Identifier_FDR03', 'Item_Identifier_FDR04', 'Item_Identifier_FDR07', 'Item_Identifier_FDR08', 'Item_Identifier_FDR09', 'Item_Identifier_FDR10', 'Item_Identifier_FDR11', 'Item_Identifier_FDR12', 'Item_Identifier_FDR13', 'Item_Identifier_FDR14', 'Item_Identifier_FDR15', 'Item_Identifier_FDR16', 'Item_Identifier_FDR19', 'Item_Identifier_FDR20', 'Item_Identifier_FDR21', 'Item_Identifier_FDR22', 'Item_Identifier_FDR23', 'Item_Identifier_FDR24', 'Item_Identifier_FDR25', 'Item_Identifier_FDR26', 'Item_Identifier_FDR27', 'Item_Identifier_FDR28', 'Item_Identifier_FDR31', 'Item_Identifier_FDR32', 'Item_Identifier_FDR33', 'Item_Identifier_FDR34', 'Item_Identifier_FDR35', 'Item_Identifier_FDR36', 'Item_Identifier_FDR37', 'Item_Identifier_FDR39', 'Item_Identifier_FDR40', 'Item_Identifier_FDR43', 'Item_Identifier_FDR44', 'Item_Identifier_FDR45', 'Item_Identifier_FDR46', 'Item_Identifier_FDR47', 'Item_Identifier_FDR48', 'Item_Identifier_FDR49', 'Item_Identifier_FDR51', 'Item_Identifier_FDR52', 'Item_Identifier_FDR55', 'Item_Identifier_FDR56', 'Item_Identifier_FDR57', 'Item_Identifier_FDR58', 'Item_Identifier_FDR59', 'Item_Identifier_FDR60', 'Item_Identifier_FDS01', 'Item_Identifier_FDS02', 'Item_Identifier_FDS03', 'Item_Identifier_FDS04', 'Item_Identifier_FDS07', 'Item_Identifier_FDS08', 'Item_Identifier_FDS09', 'Item_Identifier_FDS10', 'Item_Identifier_FDS11', 'Item_Identifier_FDS12', 'Item_Identifier_FDS13', 'Item_Identifier_FDS14', 'Item_Identifier_FDS15', 'Item_Identifier_FDS16', 'Item_Identifier_FDS19', 'Item_Identifier_FDS20', 'Item_Identifier_FDS21', 'Item_Identifier_FDS22', 'Item_Identifier_FDS23', 'Item_Identifier_FDS24', 'Item_Identifier_FDS25', 'Item_Identifier_FDS26', 'Item_Identifier_FDS27', 'Item_Identifier_FDS28', 'Item_Identifier_FDS31', 'Item_Identifier_FDS32', 'Item_Identifier_FDS33', 'Item_Identifier_FDS34', 'Item_Identifier_FDS35', 'Item_Identifier_FDS36', 'Item_Identifier_FDS37', 'Item_Identifier_FDS39', 'Item_Identifier_FDS40', 'Item_Identifier_FDS43', 'Item_Identifier_FDS44', 'Item_Identifier_FDS45', 'Item_Identifier_FDS46', 'Item_Identifier_FDS47', 'Item_Identifier_FDS48', 'Item_Identifier_FDS49', 'Item_Identifier_FDS50', 'Item_Identifier_FDS51', 'Item_Identifier_FDS52', 'Item_Identifier_FDS55', 'Item_Identifier_FDS56', 'Item_Identifier_FDS57', 'Item_Identifier_FDS58', 'Item_Identifier_FDS59', 'Item_Identifier_FDS60', 'Item_Identifier_FDT01', 'Item_Identifier_FDT02', 'Item_Identifier_FDT03', 'Item_Identifier_FDT04', 'Item_Identifier_FDT07', 'Item_Identifier_FDT08', 'Item_Identifier_FDT09', 'Item_Identifier_FDT10', 'Item_Identifier_FDT11', 'Item_Identifier_FDT12', 'Item_Identifier_FDT13', 'Item_Identifier_FDT14', 'Item_Identifier_FDT15', 'Item_Identifier_FDT16', 'Item_Identifier_FDT19', 'Item_Identifier_FDT20', 'Item_Identifier_FDT21', 'Item_Identifier_FDT22', 'Item_Identifier_FDT23', 'Item_Identifier_FDT24', 'Item_Identifier_FDT25', 'Item_Identifier_FDT26', 'Item_Identifier_FDT27', 'Item_Identifier_FDT28', 'Item_Identifier_FDT31', 'Item_Identifier_FDT32', 'Item_Identifier_FDT33', 'Item_Identifier_FDT34', 'Item_Identifier_FDT35', 'Item_Identifier_FDT36', 'Item_Identifier_FDT37', 'Item_Identifier_FDT39', 'Item_Identifier_FDT40', 'Item_Identifier_FDT43', 'Item_Identifier_FDT44', 'Item_Identifier_FDT45', 'Item_Identifier_FDT46', 'Item_Identifier_FDT47', 'Item_Identifier_FDT48', 'Item_Identifier_FDT49', 'Item_Identifier_FDT50', 'Item_Identifier_FDT51', 'Item_Identifier_FDT52', 'Item_Identifier_FDT55', 'Item_Identifier_FDT56', 'Item_Identifier_FDT57', 'Item_Identifier_FDT58', 'Item_Identifier_FDT59', 'Item_Identifier_FDT60', 'Item_Identifier_FDU01', 'Item_Identifier_FDU02', 'Item_Identifier_FDU03', 'Item_Identifier_FDU04', 'Item_Identifier_FDU07', 'Item_Identifier_FDU08', 'Item_Identifier_FDU09', 'Item_Identifier_FDU10', 'Item_Identifier_FDU11', 'Item_Identifier_FDU12', 'Item_Identifier_FDU13', 'Item_Identifier_FDU14', 'Item_Identifier_FDU15', 'Item_Identifier_FDU16', 'Item_Identifier_FDU19', 'Item_Identifier_FDU20', 'Item_Identifier_FDU21', 'Item_Identifier_FDU22', 'Item_Identifier_FDU23', 'Item_Identifier_FDU24', 'Item_Identifier_FDU25', 'Item_Identifier_FDU26', 'Item_Identifier_FDU27', 'Item_Identifier_FDU28', 'Item_Identifier_FDU31', 'Item_Identifier_FDU32', 'Item_Identifier_FDU33', 'Item_Identifier_FDU34', 'Item_Identifier_FDU35', 'Item_Identifier_FDU36', 'Item_Identifier_FDU37', 'Item_Identifier_FDU38', 'Item_Identifier_FDU39', 'Item_Identifier_FDU40', 'Item_Identifier_FDU43', 'Item_Identifier_FDU44', 'Item_Identifier_FDU45', 'Item_Identifier_FDU46', 'Item_Identifier_FDU47', 'Item_Identifier_FDU48', 'Item_Identifier_FDU49', 'Item_Identifier_FDU50', 'Item_Identifier_FDU51', 'Item_Identifier_FDU52', 'Item_Identifier_FDU55', 'Item_Identifier_FDU56', 'Item_Identifier_FDU57', 'Item_Identifier_FDU58', 'Item_Identifier_FDU59', 'Item_Identifier_FDU60', 'Item_Identifier_FDV01', 'Item_Identifier_FDV02', 'Item_Identifier_FDV03', 'Item_Identifier_FDV04', 'Item_Identifier_FDV07', 'Item_Identifier_FDV08', 'Item_Identifier_FDV09', 'Item_Identifier_FDV10', 'Item_Identifier_FDV11', 'Item_Identifier_FDV12', 'Item_Identifier_FDV13', 'Item_Identifier_FDV14', 'Item_Identifier_FDV15', 'Item_Identifier_FDV16', 'Item_Identifier_FDV19', 'Item_Identifier_FDV20', 'Item_Identifier_FDV21', 'Item_Identifier_FDV22', 'Item_Identifier_FDV23', 'Item_Identifier_FDV24', 'Item_Identifier_FDV25', 'Item_Identifier_FDV26', 'Item_Identifier_FDV27', 'Item_Identifier_FDV28', 'Item_Identifier_FDV31', 'Item_Identifier_FDV32', 'Item_Identifier_FDV33', 'Item_Identifier_FDV34', 'Item_Identifier_FDV35', 'Item_Identifier_FDV36', 'Item_Identifier_FDV37', 'Item_Identifier_FDV38', 'Item_Identifier_FDV39', 'Item_Identifier_FDV40', 'Item_Identifier_FDV43', 'Item_Identifier_FDV44', 'Item_Identifier_FDV45', 'Item_Identifier_FDV46', 'Item_Identifier_FDV47', 'Item_Identifier_FDV48', 'Item_Identifier_FDV49', 'Item_Identifier_FDV50', 'Item_Identifier_FDV51', 'Item_Identifier_FDV52', 'Item_Identifier_FDV55', 'Item_Identifier_FDV56', 'Item_Identifier_FDV57', 'Item_Identifier_FDV58', 'Item_Identifier_FDV59', 'Item_Identifier_FDV60', 'Item_Identifier_FDW01', 'Item_Identifier_FDW02', 'Item_Identifier_FDW03', 'Item_Identifier_FDW04', 'Item_Identifier_FDW07', 'Item_Identifier_FDW08', 'Item_Identifier_FDW09', 'Item_Identifier_FDW10', 'Item_Identifier_FDW11', 'Item_Identifier_FDW12', 'Item_Identifier_FDW13', 'Item_Identifier_FDW14', 'Item_Identifier_FDW15', 'Item_Identifier_FDW16', 'Item_Identifier_FDW19', 'Item_Identifier_FDW20', 'Item_Identifier_FDW21', 'Item_Identifier_FDW22', 'Item_Identifier_FDW23', 'Item_Identifier_FDW24', 'Item_Identifier_FDW25', 'Item_Identifier_FDW26', 'Item_Identifier_FDW27', 'Item_Identifier_FDW28', 'Item_Identifier_FDW31', 'Item_Identifier_FDW32', 'Item_Identifier_FDW33', 'Item_Identifier_FDW34', 'Item_Identifier_FDW35', 'Item_Identifier_FDW36', 'Item_Identifier_FDW37', 'Item_Identifier_FDW38', 'Item_Identifier_FDW39', 'Item_Identifier_FDW40', 'Item_Identifier_FDW43', 'Item_Identifier_FDW44', 'Item_Identifier_FDW45', 'Item_Identifier_FDW46', 'Item_Identifier_FDW47', 'Item_Identifier_FDW48', 'Item_Identifier_FDW49', 'Item_Identifier_FDW50', 'Item_Identifier_FDW51', 'Item_Identifier_FDW52', 'Item_Identifier_FDW55', 'Item_Identifier_FDW56', 'Item_Identifier_FDW57', 'Item_Identifier_FDW58', 'Item_Identifier_FDW59', 'Item_Identifier_FDW60', 'Item_Identifier_FDX01', 'Item_Identifier_FDX02', 'Item_Identifier_FDX03', 'Item_Identifier_FDX04', 'Item_Identifier_FDX07', 'Item_Identifier_FDX08', 'Item_Identifier_FDX09', 'Item_Identifier_FDX10', 'Item_Identifier_FDX11', 'Item_Identifier_FDX12', 'Item_Identifier_FDX13', 'Item_Identifier_FDX14', 'Item_Identifier_FDX15', 'Item_Identifier_FDX16', 'Item_Identifier_FDX19', 'Item_Identifier_FDX20', 'Item_Identifier_FDX21', 'Item_Identifier_FDX22', 'Item_Identifier_FDX23', 'Item_Identifier_FDX24', 'Item_Identifier_FDX25', 'Item_Identifier_FDX26', 'Item_Identifier_FDX27', 'Item_Identifier_FDX28', 'Item_Identifier_FDX31', 'Item_Identifier_FDX32', 'Item_Identifier_FDX33', 'Item_Identifier_FDX34', 'Item_Identifier_FDX35', 'Item_Identifier_FDX36', 'Item_Identifier_FDX37', 'Item_Identifier_FDX38', 'Item_Identifier_FDX39', 'Item_Identifier_FDX40', 'Item_Identifier_FDX43', 'Item_Identifier_FDX44', 'Item_Identifier_FDX45', 'Item_Identifier_FDX46', 'Item_Identifier_FDX47', 'Item_Identifier_FDX48', 'Item_Identifier_FDX49', 'Item_Identifier_FDX50', 'Item_Identifier_FDX51', 'Item_Identifier_FDX52', 'Item_Identifier_FDX55', 'Item_Identifier_FDX56', 'Item_Identifier_FDX57', 'Item_Identifier_FDX58', 'Item_Identifier_FDX59', 'Item_Identifier_FDX60', 'Item_Identifier_FDY01', 'Item_Identifier_FDY02', 'Item_Identifier_FDY03', 'Item_Identifier_FDY04', 'Item_Identifier_FDY07', 'Item_Identifier_FDY08', 'Item_Identifier_FDY09', 'Item_Identifier_FDY10', 'Item_Identifier_FDY11', 'Item_Identifier_FDY12', 'Item_Identifier_FDY13', 'Item_Identifier_FDY14', 'Item_Identifier_FDY15', 'Item_Identifier_FDY16', 'Item_Identifier_FDY19', 'Item_Identifier_FDY20', 'Item_Identifier_FDY21', 'Item_Identifier_FDY22', 'Item_Identifier_FDY24', 'Item_Identifier_FDY25', 'Item_Identifier_FDY26', 'Item_Identifier_FDY27', 'Item_Identifier_FDY28', 'Item_Identifier_FDY31', 'Item_Identifier_FDY32', 'Item_Identifier_FDY33', 'Item_Identifier_FDY34', 'Item_Identifier_FDY35', 'Item_Identifier_FDY36', 'Item_Identifier_FDY37', 'Item_Identifier_FDY38', 'Item_Identifier_FDY39', 'Item_Identifier_FDY40', 'Item_Identifier_FDY43', 'Item_Identifier_FDY44', 'Item_Identifier_FDY45', 'Item_Identifier_FDY46', 'Item_Identifier_FDY47', 'Item_Identifier_FDY48', 'Item_Identifier_FDY49', 'Item_Identifier_FDY50', 'Item_Identifier_FDY51', 'Item_Identifier_FDY52', 'Item_Identifier_FDY55', 'Item_Identifier_FDY56', 'Item_Identifier_FDY57', 'Item_Identifier_FDY58', 'Item_Identifier_FDY59', 'Item_Identifier_FDY60', 'Item_Identifier_FDZ01', 'Item_Identifier_FDZ02', 'Item_Identifier_FDZ03', 'Item_Identifier_FDZ04', 'Item_Identifier_FDZ07', 'Item_Identifier_FDZ08', 'Item_Identifier_FDZ09', 'Item_Identifier_FDZ10', 'Item_Identifier_FDZ12', 'Item_Identifier_FDZ13', 'Item_Identifier_FDZ14', 'Item_Identifier_FDZ15', 'Item_Identifier_FDZ16', 'Item_Identifier_FDZ19', 'Item_Identifier_FDZ20', 'Item_Identifier_FDZ21', 'Item_Identifier_FDZ22', 'Item_Identifier_FDZ23', 'Item_Identifier_FDZ25', 'Item_Identifier_FDZ26', 'Item_Identifier_FDZ27', 'Item_Identifier_FDZ28', 'Item_Identifier_FDZ31', 'Item_Identifier_FDZ32', 'Item_Identifier_FDZ33', 'Item_Identifier_FDZ34', 'Item_Identifier_FDZ35', 'Item_Identifier_FDZ36', 'Item_Identifier_FDZ37', 'Item_Identifier_FDZ38', 'Item_Identifier_FDZ39', 'Item_Identifier_FDZ40', 'Item_Identifier_FDZ43', 'Item_Identifier_FDZ44', 'Item_Identifier_FDZ45', 'Item_Identifier_FDZ46', 'Item_Identifier_FDZ47', 'Item_Identifier_FDZ48', 'Item_Identifier_FDZ49', 'Item_Identifier_FDZ50', 'Item_Identifier_FDZ51', 'Item_Identifier_FDZ52', 'Item_Identifier_FDZ55', 'Item_Identifier_FDZ56', 'Item_Identifier_FDZ57', 'Item_Identifier_FDZ58', 'Item_Identifier_FDZ59', 'Item_Identifier_FDZ60', 'Item_Identifier_NCA05', 'Item_Identifier_NCA06', 'Item_Identifier_NCA17', 'Item_Identifier_NCA18', 'Item_Identifier_NCA29', 'Item_Identifier_NCA30', 'Item_Identifier_NCA41', 'Item_Identifier_NCA42', 'Item_Identifier_NCA53', 'Item_Identifier_NCA54', 'Item_Identifier_NCB06', 'Item_Identifier_NCB07', 'Item_Identifier_NCB18', 'Item_Identifier_NCB19', 'Item_Identifier_NCB30', 'Item_Identifier_NCB31', 'Item_Identifier_NCB42', 'Item_Identifier_NCB43', 'Item_Identifier_NCB54', 'Item_Identifier_NCB55', 'Item_Identifier_NCC06', 'Item_Identifier_NCC07', 'Item_Identifier_NCC18', 'Item_Identifier_NCC19', 'Item_Identifier_NCC30', 'Item_Identifier_NCC31', 'Item_Identifier_NCC42', 'Item_Identifier_NCC43', 'Item_Identifier_NCC54', 'Item_Identifier_NCD06', 'Item_Identifier_NCD07', 'Item_Identifier_NCD18', 'Item_Identifier_NCD19', 'Item_Identifier_NCD30', 'Item_Identifier_NCD31', 'Item_Identifier_NCD42', 'Item_Identifier_NCD43', 'Item_Identifier_NCD54', 'Item_Identifier_NCD55', 'Item_Identifier_NCE06', 'Item_Identifier_NCE07', 'Item_Identifier_NCE18', 'Item_Identifier_NCE19', 'Item_Identifier_NCE30', 'Item_Identifier_NCE31', 'Item_Identifier_NCE42', 'Item_Identifier_NCE43', 'Item_Identifier_NCE54', 'Item_Identifier_NCE55', 'Item_Identifier_NCF06', 'Item_Identifier_NCF07', 'Item_Identifier_NCF18', 'Item_Identifier_NCF19', 'Item_Identifier_NCF30', 'Item_Identifier_NCF31', 'Item_Identifier_NCF42', 'Item_Identifier_NCF43', 'Item_Identifier_NCF54', 'Item_Identifier_NCF55', 'Item_Identifier_NCG06', 'Item_Identifier_NCG07', 'Item_Identifier_NCG18', 'Item_Identifier_NCG19', 'Item_Identifier_NCG30', 'Item_Identifier_NCG42', 'Item_Identifier_NCG43', 'Item_Identifier_NCG54', 'Item_Identifier_NCG55', 'Item_Identifier_NCH06', 'Item_Identifier_NCH07', 'Item_Identifier_NCH18', 'Item_Identifier_NCH29', 'Item_Identifier_NCH30', 'Item_Identifier_NCH42', 'Item_Identifier_NCH43', 'Item_Identifier_NCH54', 'Item_Identifier_NCH55', 'Item_Identifier_NCI06', 'Item_Identifier_NCI17', 'Item_Identifier_NCI18', 'Item_Identifier_NCI29', 'Item_Identifier_NCI30', 'Item_Identifier_NCI31', 'Item_Identifier_NCI42', 'Item_Identifier_NCI43', 'Item_Identifier_NCI54', 'Item_Identifier_NCI55', 'Item_Identifier_NCJ05', 'Item_Identifier_NCJ06', 'Item_Identifier_NCJ17', 'Item_Identifier_NCJ18', 'Item_Identifier_NCJ19', 'Item_Identifier_NCJ29', 'Item_Identifier_NCJ30', 'Item_Identifier_NCJ31', 'Item_Identifier_NCJ42', 'Item_Identifier_NCJ43', 'Item_Identifier_NCJ54', 'Item_Identifier_NCK05', 'Item_Identifier_NCK06', 'Item_Identifier_NCK07', 'Item_Identifier_NCK17', 'Item_Identifier_NCK18', 'Item_Identifier_NCK19', 'Item_Identifier_NCK29', 'Item_Identifier_NCK30', 'Item_Identifier_NCK31', 'Item_Identifier_NCK42', 'Item_Identifier_NCK53', 'Item_Identifier_NCK54', 'Item_Identifier_NCL05', 'Item_Identifier_NCL06', 'Item_Identifier_NCL07', 'Item_Identifier_NCL17', 'Item_Identifier_NCL18', 'Item_Identifier_NCL19', 'Item_Identifier_NCL29', 'Item_Identifier_NCL30', 'Item_Identifier_NCL31', 'Item_Identifier_NCL41', 'Item_Identifier_NCL42', 'Item_Identifier_NCL53', 'Item_Identifier_NCL54', 'Item_Identifier_NCL55', 'Item_Identifier_NCM05', 'Item_Identifier_NCM06', 'Item_Identifier_NCM07', 'Item_Identifier_NCM17', 'Item_Identifier_NCM18', 'Item_Identifier_NCM19', 'Item_Identifier_NCM26', 'Item_Identifier_NCM29', 'Item_Identifier_NCM30', 'Item_Identifier_NCM31', 'Item_Identifier_NCM41', 'Item_Identifier_NCM42', 'Item_Identifier_NCM43', 'Item_Identifier_NCM53', 'Item_Identifier_NCM54', 'Item_Identifier_NCM55', 'Item_Identifier_NCN05', 'Item_Identifier_NCN06', 'Item_Identifier_NCN07', 'Item_Identifier_NCN14', 'Item_Identifier_NCN17', 'Item_Identifier_NCN18', 'Item_Identifier_NCN19', 'Item_Identifier_NCN26', 'Item_Identifier_NCN29', 'Item_Identifier_NCN30', 'Item_Identifier_NCN41', 'Item_Identifier_NCN42', 'Item_Identifier_NCN43', 'Item_Identifier_NCN53', 'Item_Identifier_NCN54', 'Item_Identifier_NCN55', 'Item_Identifier_NCO02', 'Item_Identifier_NCO05', 'Item_Identifier_NCO06', 'Item_Identifier_NCO07', 'Item_Identifier_NCO14', 'Item_Identifier_NCO17', 'Item_Identifier_NCO18', 'Item_Identifier_NCO26', 'Item_Identifier_NCO29', 'Item_Identifier_NCO30', 'Item_Identifier_NCO41', 'Item_Identifier_NCO42', 'Item_Identifier_NCO43', 'Item_Identifier_NCO53', 'Item_Identifier_NCO54', 'Item_Identifier_NCO55', 'Item_Identifier_NCP02', 'Item_Identifier_NCP05', 'Item_Identifier_NCP06', 'Item_Identifier_NCP14', 'Item_Identifier_NCP17', 'Item_Identifier_NCP18', 'Item_Identifier_NCP29', 'Item_Identifier_NCP30', 'Item_Identifier_NCP42', 'Item_Identifier_NCP43', 'Item_Identifier_NCP50', 'Item_Identifier_NCP53', 'Item_Identifier_NCP54', 'Item_Identifier_NCP55', 'Item_Identifier_NCQ02', 'Item_Identifier_NCQ05', 'Item_Identifier_NCQ06', 'Item_Identifier_NCQ17', 'Item_Identifier_NCQ18', 'Item_Identifier_NCQ29', 'Item_Identifier_NCQ30', 'Item_Identifier_NCQ38', 'Item_Identifier_NCQ41', 'Item_Identifier_NCQ42', 'Item_Identifier_NCQ43', 'Item_Identifier_NCQ50', 'Item_Identifier_NCQ53', 'Item_Identifier_NCQ54', 'Item_Identifier_NCR05', 'Item_Identifier_NCR06', 'Item_Identifier_NCR17', 'Item_Identifier_NCR18', 'Item_Identifier_NCR29', 'Item_Identifier_NCR30', 'Item_Identifier_NCR38', 'Item_Identifier_NCR41', 'Item_Identifier_NCR42', 'Item_Identifier_NCR50', 'Item_Identifier_NCR53', 'Item_Identifier_NCR54', 'Item_Identifier_NCS05', 'Item_Identifier_NCS06', 'Item_Identifier_NCS17', 'Item_Identifier_NCS18', 'Item_Identifier_NCS29', 'Item_Identifier_NCS30', 'Item_Identifier_NCS38', 'Item_Identifier_NCS41', 'Item_Identifier_NCS42', 'Item_Identifier_NCS53', 'Item_Identifier_NCS54', 'Item_Identifier_NCT05', 'Item_Identifier_NCT06', 'Item_Identifier_NCT17', 'Item_Identifier_NCT18', 'Item_Identifier_NCT29', 'Item_Identifier_NCT30', 'Item_Identifier_NCT41', 'Item_Identifier_NCT42', 'Item_Identifier_NCT53', 'Item_Identifier_NCT54', 'Item_Identifier_NCU05', 'Item_Identifier_NCU06', 'Item_Identifier_NCU17', 'Item_Identifier_NCU18', 'Item_Identifier_NCU29', 'Item_Identifier_NCU30', 'Item_Identifier_NCU41', 'Item_Identifier_NCU42', 'Item_Identifier_NCU53', 'Item_Identifier_NCU54', 'Item_Identifier_NCV05', 'Item_Identifier_NCV06', 'Item_Identifier_NCV17', 'Item_Identifier_NCV18', 'Item_Identifier_NCV29', 'Item_Identifier_NCV30', 'Item_Identifier_NCV41', 'Item_Identifier_NCV42', 'Item_Identifier_NCV53', 'Item_Identifier_NCV54', 'Item_Identifier_NCW05', 'Item_Identifier_NCW06', 'Item_Identifier_NCW17', 'Item_Identifier_NCW18', 'Item_Identifier_NCW29', 'Item_Identifier_NCW30', 'Item_Identifier_NCW41', 'Item_Identifier_NCW42', 'Item_Identifier_NCW53', 'Item_Identifier_NCW54', 'Item_Identifier_NCX05', 'Item_Identifier_NCX06', 'Item_Identifier_NCX17', 'Item_Identifier_NCX18', 'Item_Identifier_NCX29', 'Item_Identifier_NCX30', 'Item_Identifier_NCX41', 'Item_Identifier_NCX42', 'Item_Identifier_NCX53', 'Item_Identifier_NCX54', 'Item_Identifier_NCY05', 'Item_Identifier_NCY06', 'Item_Identifier_NCY17', 'Item_Identifier_NCY18', 'Item_Identifier_NCY29', 'Item_Identifier_NCY30', 'Item_Identifier_NCY41', 'Item_Identifier_NCY42', 'Item_Identifier_NCY53', 'Item_Identifier_NCY54', 'Item_Identifier_NCZ05', 'Item_Identifier_NCZ06', 'Item_Identifier_NCZ17', 'Item_Identifier_NCZ18', 'Item_Identifier_NCZ29', 'Item_Identifier_NCZ30', 'Item_Identifier_NCZ41', 'Item_Identifier_NCZ42', 'Item_Identifier_NCZ53', 'Item_Identifier_NCZ54', 'Item_Fat_Content_LF', 'Item_Fat_Content_Low Fat', 'Item_Fat_Content_Regular', 'Item_Fat_Content_low fat', 'Item_Fat_Content_reg', 'Item_Type_Baking Goods', 'Item_Type_Breads', 'Item_Type_Breakfast', 'Item_Type_Canned', 'Item_Type_Dairy', 'Item_Type_Frozen Foods', 'Item_Type_Fruits and Vegetables', 'Item_Type_Hard Drinks', 'Item_Type_Health and Hygiene', 'Item_Type_Household', 'Item_Type_Meat', 'Item_Type_Others', 'Item_Type_Seafood', 'Item_Type_Snack Foods', 'Item_Type_Soft Drinks', 'Item_Type_Starchy Foods', 'Outlet_Identifier_OUT010', 'Outlet_Identifier_OUT013', 'Outlet_Identifier_OUT017', 'Outlet_Identifier_OUT018', 'Outlet_Identifier_OUT019', 'Outlet_Identifier_OUT027', 'Outlet_Identifier_OUT035', 'Outlet_Identifier_OUT045', 'Outlet_Identifier_OUT046', 'Outlet_Identifier_OUT049', 'Outlet_Location_Type_Tier 1', 'Outlet_Location_Type_Tier 2', 'Outlet_Location_Type_Tier 3', 'Outlet_Type_Grocery Store', 'Outlet_Type_Supermarket Type1', 'Outlet_Type_Supermarket Type2', 'Outlet_Type_Supermarket Type3', 'Item_Weight', 'Item_Visibility', 'Item_MRP', 'Outlet_Establishment_Year', 'Outlet_Size']\n"
          ]
        },
        {
          "output_type": "execute_result",
          "data": {
            "text/plain": [
              "1593"
            ]
          },
          "metadata": {},
          "execution_count": 56
        }
      ]
    },
    {
      "cell_type": "code",
      "source": [
        "X_train_procesado\n",
        "type(nombre_columnas)"
      ],
      "metadata": {
        "id": "KOma4Y0_GJGM",
        "colab": {
          "base_uri": "https://localhost:8080/"
        },
        "outputId": "829866df-622e-4d55-ffec-169b545ab939"
      },
      "execution_count": null,
      "outputs": [
        {
          "output_type": "execute_result",
          "data": {
            "text/plain": [
              "list"
            ]
          },
          "metadata": {},
          "execution_count": 50
        }
      ]
    }
  ]
}